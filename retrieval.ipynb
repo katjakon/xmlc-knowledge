{
 "cells": [
  {
   "cell_type": "code",
   "execution_count": 1,
   "metadata": {},
   "outputs": [],
   "source": [
    "\n",
    "from datasets import Dataset\n",
    "from torch.utils.data import DataLoader\n",
    "import pandas as pd\n",
    "import faiss \n",
    "from tqdm import tqdm\n",
    "import torch\n",
    "from sentence_transformers import SentenceTransformer\n",
    "import pickle\n",
    "from transformers import pipeline\n",
    "\n",
    "import networkx as nx\n",
    "from retriever import Retriever\n",
    "from reranker import BGEReranker\n",
    "from utils import k_hop_neighbors, get_pref_label, precision_at_k, recall_at_k, f1_at_k, strip_uri, get_label_mapping\n",
    "\n",
    "from statistics import mean, stdev, median"
   ]
  },
  {
   "cell_type": "code",
   "execution_count": 10,
   "metadata": {},
   "outputs": [],
   "source": [
    "DEVICE = torch.device(\"cuda:0\" if torch.cuda.is_available() else \"cpu\")"
   ]
  },
  {
   "cell_type": "code",
   "execution_count": 11,
   "metadata": {},
   "outputs": [],
   "source": [
    "# Read in text data\n",
    "data_path = \"data/title/validate.tsv.gz\"\n",
    "data = pd.read_csv(data_path, sep=\"\\t\", compression=\"gzip\", header=0, names=[\"title\", \"label-idn\"])\n",
    "data[\"label-idn\"] = data[\"label-idn\"].apply(strip_uri)\n",
    "gnd = pickle.load(open(\"data/gnd.pickle\", \"rb\"))"
   ]
  },
  {
   "cell_type": "code",
   "execution_count": 12,
   "metadata": {},
   "outputs": [],
   "source": [
    "retriever_model_str = 'BAAI/bge-m3'"
   ]
  },
  {
   "cell_type": "code",
   "execution_count": 13,
   "metadata": {},
   "outputs": [
    {
     "data": {
      "text/html": [
       "<div>\n",
       "<style scoped>\n",
       "    .dataframe tbody tr th:only-of-type {\n",
       "        vertical-align: middle;\n",
       "    }\n",
       "\n",
       "    .dataframe tbody tr th {\n",
       "        vertical-align: top;\n",
       "    }\n",
       "\n",
       "    .dataframe thead th {\n",
       "        text-align: right;\n",
       "    }\n",
       "</style>\n",
       "<table border=\"1\" class=\"dataframe\">\n",
       "  <thead>\n",
       "    <tr style=\"text-align: right;\">\n",
       "      <th></th>\n",
       "      <th>title</th>\n",
       "      <th>label-idn</th>\n",
       "    </tr>\n",
       "  </thead>\n",
       "  <tbody>\n",
       "    <tr>\n",
       "      <th>0</th>\n",
       "      <td>Theoretica chimica acta a journal for structur...</td>\n",
       "      <td>[040674886, 04185098X]</td>\n",
       "    </tr>\n",
       "    <tr>\n",
       "      <th>1</th>\n",
       "      <td>Adressbuch deutscher Chemiker</td>\n",
       "      <td>[004713532, 040098362, 040118827, 040118894, 0...</td>\n",
       "    </tr>\n",
       "    <tr>\n",
       "      <th>2</th>\n",
       "      <td>Österreichischer Amtskalender zusammengestell...</td>\n",
       "      <td>[040052982, 040432718, 040678709, 041133935, 0...</td>\n",
       "    </tr>\n",
       "    <tr>\n",
       "      <th>3</th>\n",
       "      <td>Die Angestellten-Versicherung Zeitschrift der ...</td>\n",
       "      <td>[040674886, 041424298]</td>\n",
       "    </tr>\n",
       "    <tr>\n",
       "      <th>4</th>\n",
       "      <td>Die Arbeiten des Statistischen Bundesamtes im ...</td>\n",
       "      <td>[004017331, 040064328, 041289463, 042571316]</td>\n",
       "    </tr>\n",
       "  </tbody>\n",
       "</table>\n",
       "</div>"
      ],
      "text/plain": [
       "                                               title  \\\n",
       "0  Theoretica chimica acta a journal for structur...   \n",
       "1                      Adressbuch deutscher Chemiker   \n",
       "2  Österreichischer Amtskalender zusammengestell...   \n",
       "3  Die Angestellten-Versicherung Zeitschrift der ...   \n",
       "4  Die Arbeiten des Statistischen Bundesamtes im ...   \n",
       "\n",
       "                                           label-idn  \n",
       "0                             [040674886, 04185098X]  \n",
       "1  [004713532, 040098362, 040118827, 040118894, 0...  \n",
       "2  [040052982, 040432718, 040678709, 041133935, 0...  \n",
       "3                             [040674886, 041424298]  \n",
       "4       [004017331, 040064328, 041289463, 042571316]  "
      ]
     },
     "execution_count": 13,
     "metadata": {},
     "output_type": "execute_result"
    }
   ],
   "source": [
    "data.head()"
   ]
  },
  {
   "cell_type": "code",
   "execution_count": 14,
   "metadata": {},
   "outputs": [],
   "source": [
    "retriever = Retriever(retriever_model_str, device=DEVICE)"
   ]
  },
  {
   "cell_type": "code",
   "execution_count": 15,
   "metadata": {},
   "outputs": [],
   "source": [
    "label_strings, label_mapping = get_label_mapping(gnd)"
   ]
  },
  {
   "cell_type": "code",
   "execution_count": 16,
   "metadata": {},
   "outputs": [
    {
     "data": {
      "application/vnd.jupyter.widget-view+json": {
       "model_id": "d0b0e2005046414e96a69a6a0b3b695a",
       "version_major": 2,
       "version_minor": 0
      },
      "text/plain": [
       "Batches:   0%|          | 0/677 [00:00<?, ?it/s]"
      ]
     },
     "metadata": {},
     "output_type": "display_data"
    },
    {
     "data": {
      "application/vnd.jupyter.widget-view+json": {
       "model_id": "b7ec41d4f8394a12b4d544ecb1881c2c",
       "version_major": 2,
       "version_minor": 0
      },
      "text/plain": [
       "Batches:   0%|          | 0/144 [00:00<?, ?it/s]"
      ]
     },
     "metadata": {},
     "output_type": "display_data"
    }
   ],
   "source": [
    "sim, idns = retriever.retrieve(\n",
    "    mapping=label_mapping,\n",
    "    labels=label_strings,\n",
    "    texts=data[\"title\"].tolist(),\n",
    "    top_k=10,\n",
    "    batch_size=512)"
   ]
  },
  {
   "cell_type": "code",
   "execution_count": 17,
   "metadata": {},
   "outputs": [
    {
     "name": "stdout",
     "output_type": "stream",
     "text": [
      "Recall@10: 0.2081938444038028\n",
      "Precision@10: 0.0498029160244957\n",
      "F1@10: 0.07494055280636612\n",
      "=====================================\n",
      "Recall@1: 0.11850893374622679\n",
      "Precision@1: 0.2382056492859968\n",
      "F1@1: 0.14476086593513401\n",
      "-----------------\n",
      "Recall@2: 0.14821605207537591\n",
      "Precision@2: 0.15806271225739577\n",
      "F1@2: 0.13787387268395257\n",
      "-----------------\n",
      "Recall@3: 0.16440495290042154\n",
      "Precision@3: 0.12057356665166373\n",
      "F1@3: 0.1254536650707299\n",
      "-----------------\n",
      "Recall@4: 0.1754055007272013\n",
      "Precision@4: 0.0986988365907882\n",
      "F1@4: 0.1144016151782439\n",
      "-----------------\n",
      "Recall@5: 0.18305099985785436\n",
      "Precision@5: 0.0836699900435085\n",
      "F1@5: 0.10458279044492849\n",
      "-----------------\n"
     ]
    }
   ],
   "source": [
    "recall_dict = {}\n",
    "precision_dict = {}\n",
    "f1_dict = {}\n",
    "\n",
    "for k in range(1, 6):\n",
    "    recall_dict[k] = []\n",
    "    precision_dict[k] = []\n",
    "    f1_dict[k] = []\n",
    "    for preds_i, golds_i in zip(idns, data[\"label-idn\"]):\n",
    "        recall_dict[k].append(recall_at_k(\n",
    "            y_pred=preds_i, y_true=golds_i, k=k))\n",
    "        precision_dict[k].append(precision_at_k(y_pred=preds_i, y_true=golds_i, k=k))\n",
    "        f1_dict[k].append(f1_at_k(y_pred=preds_i, y_true=golds_i, k=k))\n",
    "\n",
    "# All predictions\n",
    "rec_all = []\n",
    "prec_all = []\n",
    "f1_all = []\n",
    "for preds_i, golds_i in zip(idns, data[\"label-idn\"]):\n",
    "    rec_all.append(recall_at_k(y_pred=preds_i, y_true=golds_i, k=10))\n",
    "    prec_all.append(precision_at_k(y_pred=preds_i, y_true=golds_i, k=10))\n",
    "    f1_all.append(f1_at_k(y_pred=preds_i, y_true=golds_i, k=10))\n",
    "\n",
    "print(f\"Recall@10: {mean(rec_all)}\")\n",
    "print(f\"Precision@10: {mean(prec_all)}\")\n",
    "print(f\"F1@10: {mean(f1_all)}\")\n",
    "print(\"=====================================\")\n",
    "for k in range(1, 6):\n",
    "    print(f\"Recall@{k}: {mean(recall_dict[k])}\")\n",
    "    print(f\"Precision@{k}: {mean(precision_dict[k])}\")\n",
    "    print(f\"F1@{k}: {mean(f1_dict[k])}\")\n",
    "    print(\"-----------------\")"
   ]
  },
  {
   "cell_type": "code",
   "execution_count": 18,
   "metadata": {},
   "outputs": [
    {
     "name": "stdout",
     "output_type": "stream",
     "text": [
      "Recall@10: 0.24150659657546164\n",
      "Precision@10: 0.027874730570504783\n",
      "F1@10: 0.04775497096106295\n"
     ]
    }
   ],
   "source": [
    "idn_plus_neighbors = retriever.get_neighbors(idns, graph=gnd, k=2, relation=\"broader\")\n",
    "\n",
    "rec_all = []\n",
    "prec_all = []\n",
    "f1_all = []\n",
    "for preds_i, golds_i in zip(idn_plus_neighbors, data[\"label-idn\"]):\n",
    "    rec_all.append(recall_at_k(y_pred=preds_i, y_true=golds_i, k=len(preds_i)))\n",
    "    prec_all.append(precision_at_k(y_pred=preds_i, y_true=golds_i, k=len(preds_i)))\n",
    "    f1_all.append(f1_at_k(y_pred=preds_i, y_true=golds_i, k=len(preds_i)))\n",
    "\n",
    "print(f\"Recall@10: {mean(rec_all)}\")\n",
    "print(f\"Precision@10: {mean(prec_all)}\")\n",
    "print(f\"F1@10: {mean(f1_all)}\")"
   ]
  },
  {
   "cell_type": "code",
   "execution_count": 19,
   "metadata": {},
   "outputs": [],
   "source": [
    "reranker_str = 'BAAI/bge-reranker-v2-m3'\n",
    "reranker = BGEReranker(reranker_str, device=DEVICE)\n"
   ]
  },
  {
   "cell_type": "code",
   "execution_count": 20,
   "metadata": {},
   "outputs": [
    {
     "name": "stderr",
     "output_type": "stream",
     "text": [
      "100%|██████████| 73319/73319 [00:03<00:00, 18664.76it/s]\n"
     ]
    }
   ],
   "source": [
    "\n",
    "pair_dict = {\n",
    "    \"pair\": [],\n",
    "    \"label-idn\": [],\n",
    "    \"title-idx\": []\n",
    "}\n",
    "\n",
    "c = 0\n",
    "for idx, (row, idn_i_list) in tqdm(enumerate(zip(data.itertuples(), idn_plus_neighbors)), total=len(data)):\n",
    "    title_i = row.title\n",
    "    for idn_i in idn_i_list:\n",
    "        idn_i_str = get_pref_label(gnd, idn_i)\n",
    "        pair_dict[\"pair\"].append((title_i, idn_i_str))\n",
    "        pair_dict[\"label-idn\"].append(idn_i)\n",
    "        pair_dict[\"title-idx\"].append(idx)\n",
    "        c += 1"
   ]
  },
  {
   "cell_type": "code",
   "execution_count": 21,
   "metadata": {},
   "outputs": [],
   "source": [
    "ds = Dataset.from_dict(pair_dict)"
   ]
  },
  {
   "cell_type": "code",
   "execution_count": 22,
   "metadata": {},
   "outputs": [],
   "source": [
    "def tokenize(example):\n",
    "    pair = example[\"pair\"]\n",
    "    return reranker.tokenizer(pair, padding=True, truncation=True, return_tensors='pt', max_length=64)"
   ]
  },
  {
   "cell_type": "code",
   "execution_count": 23,
   "metadata": {},
   "outputs": [
    {
     "data": {
      "application/vnd.jupyter.widget-view+json": {
       "model_id": "9b3406350ce1439aabb77979b6b4b803",
       "version_major": 2,
       "version_minor": 0
      },
      "text/plain": [
       "Map:   0%|          | 0/1785612 [00:00<?, ? examples/s]"
      ]
     },
     "metadata": {},
     "output_type": "display_data"
    }
   ],
   "source": [
    "ds = ds.map(tokenize, batched=True, batch_size=2000)\n",
    "ds.set_format(type='torch', columns=['input_ids', 'attention_mask', 'label-idn', 'title-idx'])"
   ]
  },
  {
   "cell_type": "code",
   "execution_count": 26,
   "metadata": {},
   "outputs": [],
   "source": [
    "dataloader = DataLoader(ds, batch_size=1000, shuffle=False)"
   ]
  },
  {
   "cell_type": "code",
   "execution_count": 27,
   "metadata": {},
   "outputs": [
    {
     "name": "stderr",
     "output_type": "stream",
     "text": [
      "  0%|          | 0/1786 [00:00<?, ?it/s]"
     ]
    },
    {
     "name": "stderr",
     "output_type": "stream",
     "text": [
      "  2%|▏         | 31/1786 [02:30<2:21:53,  4.85s/it]\n"
     ]
    },
    {
     "ename": "KeyboardInterrupt",
     "evalue": "",
     "output_type": "error",
     "traceback": [
      "\u001b[0;31m---------------------------------------------------------------------------\u001b[0m",
      "\u001b[0;31mKeyboardInterrupt\u001b[0m                         Traceback (most recent call last)",
      "Cell \u001b[0;32mIn[27], line 14\u001b[0m\n\u001b[1;32m     12\u001b[0m sim[\u001b[38;5;124m\"\u001b[39m\u001b[38;5;124mtitle-idx\u001b[39m\u001b[38;5;124m\"\u001b[39m]\u001b[38;5;241m.\u001b[39mextend(batch[\u001b[38;5;124m\"\u001b[39m\u001b[38;5;124mtitle-idx\u001b[39m\u001b[38;5;124m\"\u001b[39m])\n\u001b[1;32m     13\u001b[0m sim[\u001b[38;5;124m\"\u001b[39m\u001b[38;5;124mlabel-idn\u001b[39m\u001b[38;5;124m\"\u001b[39m]\u001b[38;5;241m.\u001b[39mextend(batch[\u001b[38;5;124m\"\u001b[39m\u001b[38;5;124mlabel-idn\u001b[39m\u001b[38;5;124m\"\u001b[39m])\n\u001b[0;32m---> 14\u001b[0m sim[\u001b[38;5;124m\"\u001b[39m\u001b[38;5;124mscore\u001b[39m\u001b[38;5;124m\"\u001b[39m]\u001b[38;5;241m.\u001b[39mextend(\u001b[43mscores\u001b[49m\u001b[38;5;241;43m.\u001b[39;49m\u001b[43mtolist\u001b[49m\u001b[43m(\u001b[49m\u001b[43m)\u001b[49m)\n",
      "\u001b[0;31mKeyboardInterrupt\u001b[0m: "
     ]
    }
   ],
   "source": [
    "sim = {\n",
    "    \"title-idx\": [],\n",
    "    \"label-idn\": [],\n",
    "    \"score\": []\n",
    "}\n",
    "\n",
    "for batch in tqdm(dataloader):\n",
    "    scores = reranker.similarities(\n",
    "        batch[\"input_ids\"].to(DEVICE),\n",
    "        batch[\"attention_mask\"].to(DEVICE)\n",
    "    )\n",
    "    sim[\"title-idx\"].extend(batch[\"title-idx\"])\n",
    "    sim[\"label-idn\"].extend(batch[\"label-idn\"])\n",
    "    sim[\"score\"].extend(scores.tolist())"
   ]
  },
  {
   "cell_type": "code",
   "execution_count": 1,
   "metadata": {},
   "outputs": [
    {
     "ename": "NameError",
     "evalue": "name 'pd' is not defined",
     "output_type": "error",
     "traceback": [
      "\u001b[0;31m---------------------------------------------------------------------------\u001b[0m",
      "\u001b[0;31mNameError\u001b[0m                                 Traceback (most recent call last)",
      "Cell \u001b[0;32mIn[1], line 1\u001b[0m\n\u001b[0;32m----> 1\u001b[0m df \u001b[38;5;241m=\u001b[39m \u001b[43mpd\u001b[49m\u001b[38;5;241m.\u001b[39mDataFrame(sim)\n\u001b[1;32m      2\u001b[0m df[\u001b[38;5;124m\"\u001b[39m\u001b[38;5;124mtitle-idx\u001b[39m\u001b[38;5;124m\"\u001b[39m] \u001b[38;5;241m=\u001b[39m df[\u001b[38;5;124m\"\u001b[39m\u001b[38;5;124mtitle-idx\u001b[39m\u001b[38;5;124m\"\u001b[39m]\u001b[38;5;241m.\u001b[39mastype(\u001b[38;5;28mint\u001b[39m)\n",
      "\u001b[0;31mNameError\u001b[0m: name 'pd' is not defined"
     ]
    }
   ],
   "source": [
    "df = pd.DataFrame(sim)\n",
    "df[\"title-idx\"] = df[\"title-idx\"].astype(int)"
   ]
  },
  {
   "cell_type": "code",
   "execution_count": 20,
   "metadata": {},
   "outputs": [
    {
     "name": "stderr",
     "output_type": "stream",
     "text": [
      "100%|██████████| 73319/73319 [03:09<00:00, 387.56it/s]\n"
     ]
    },
    {
     "name": "stdout",
     "output_type": "stream",
     "text": [
      "Recall@1: 0.13912855387171288\n",
      "Precision@1: 0.3079420068467928\n",
      "F1@1: 0.17500305148211978\n",
      "-----------------\n",
      "Recall@2: 0.1798534548279318\n",
      "Precision@2: 0.21038202921480106\n",
      "F1@2: 0.17472219635348804\n",
      "-----------------\n",
      "Recall@3: 0.20199366039881259\n",
      "Precision@3: 0.16202257714007737\n",
      "F1@3: 0.16226111691061812\n",
      "-----------------\n",
      "Recall@4: 0.21664021564085587\n",
      "Precision@4: 0.13277595166327963\n",
      "F1@4: 0.14925031066155456\n",
      "-----------------\n",
      "Recall@5: 0.22731729348026544\n",
      "Precision@5: 0.11271293934723606\n",
      "F1@5: 0.13741702805661196\n",
      "-----------------\n"
     ]
    }
   ],
   "source": [
    "recall_dict = {}\n",
    "precision_dict = {}\n",
    "f1_dict = {}\n",
    "\n",
    "for idx in tqdm(set(df[\"title-idx\"])):\n",
    "    df_i = df[df[\"title-idx\"] == idx]\n",
    "    df_i = df_i.sort_values(by=\"score\", ascending=False)\n",
    "    pred = df_i[\"label-idn\"].tolist()\n",
    "    gold = data[\"label-idn\"].iloc[idx]\n",
    "    for k in range(1, 6):\n",
    "        if k not in recall_dict:\n",
    "            recall_dict[k] = []\n",
    "            precision_dict[k] = []\n",
    "            f1_dict[k] = []\n",
    "        recall_dict[k].append(recall_at_k(y_pred=pred, y_true=gold, k=k))\n",
    "        precision_dict[k].append(precision_at_k(y_pred=pred, y_true=gold, k=k))\n",
    "        f1_dict[k].append(f1_at_k(y_pred=pred, y_true=gold, k=k))\n",
    "\n",
    "for k in range(1, 6):\n",
    "    print(f\"Recall@{k}: {mean(recall_dict[k])}\")\n",
    "    print(f\"Precision@{k}: {mean(precision_dict[k])}\")\n",
    "    print(f\"F1@{k}: {mean(f1_dict[k])}\")\n",
    "    print(\"-----------------\")"
   ]
  },
  {
   "cell_type": "code",
   "execution_count": 82,
   "metadata": {},
   "outputs": [],
   "source": [
    "df.to_feather(\"data/title/validate_reranked_3hop.feather\")"
   ]
  }
 ],
 "metadata": {
  "kernelspec": {
   "display_name": "peft",
   "language": "python",
   "name": "python3"
  },
  "language_info": {
   "codemirror_mode": {
    "name": "ipython",
    "version": 3
   },
   "file_extension": ".py",
   "mimetype": "text/x-python",
   "name": "python",
   "nbconvert_exporter": "python",
   "pygments_lexer": "ipython3",
   "version": "3.12.8"
  }
 },
 "nbformat": 4,
 "nbformat_minor": 2
}
