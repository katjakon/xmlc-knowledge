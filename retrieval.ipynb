{
 "cells": [
  {
   "cell_type": "code",
   "execution_count": 1,
   "metadata": {},
   "outputs": [],
   "source": [
    "\n",
    "from datasets import Dataset\n",
    "from torch.utils.data import DataLoader\n",
    "import pandas as pd\n",
    "import faiss \n",
    "from tqdm import tqdm\n",
    "import torch\n",
    "from sentence_transformers import SentenceTransformer\n",
    "import pickle\n",
    "from transformers import pipeline\n",
    "\n",
    "import networkx as nx\n",
    "from retriever import Retriever\n",
    "from reranker import BGEReranker\n",
    "from utils import k_hop_neighbors, get_pref_label, precision_at_k, recall_at_k, f1_at_k, strip_uri, get_label_mapping\n",
    "\n",
    "from statistics import mean, stdev, median"
   ]
  },
  {
   "cell_type": "code",
   "execution_count": 6,
   "metadata": {},
   "outputs": [],
   "source": [
    "def apply_pref_label(label_list, graph):\n",
    "    return [get_pref_label(graph, label) for label in label_list if label in graph.nodes]\n",
    "\n",
    "data_path = \"data/title/train.tsv.gz\"\n",
    "eval_path = \"data/title/test.tsv.gz\"\n",
    "data_df = pd.read_csv(data_path, sep=\"\\t\", compression=\"gzip\", header=0, names=[\"title\", \"label-idn\"])\n",
    "data_df[\"label-idn\"] = data_df[\"label-idn\"].apply(strip_uri)\n",
    "eval_df = pd.read_csv(eval_path, sep=\"\\t\", compression=\"gzip\", header=0, names=[\"title\", \"label-idn\"])\n",
    "eval_df[\"label-idn\"] = eval_df[\"label-idn\"].apply(strip_uri)\n",
    "\n",
    "gnd = pickle.load(open(\"data/gnd.pickle\", \"rb\"))\n",
    "data_df[\"label_list\"] = data_df[\"label-idn\"].apply(lambda x: apply_pref_label(x, gnd))\n",
    "eval_df[\"label_list\"] = eval_df[\"label-idn\"].apply(lambda x: apply_pref_label(x, gnd))"
   ]
  },
  {
   "cell_type": "code",
   "execution_count": 7,
   "metadata": {},
   "outputs": [],
   "source": [
    "eval_df.to_feather(\"data/title_test.feather\")"
   ]
  },
  {
   "cell_type": "code",
   "execution_count": 3,
   "metadata": {},
   "outputs": [],
   "source": [
    "DEVICE = torch.device(\"cuda:0\" if torch.cuda.is_available() else \"cpu\")"
   ]
  },
  {
   "cell_type": "code",
   "execution_count": 11,
   "metadata": {},
   "outputs": [],
   "source": [
    "# Read in text data\n",
    "data_path = \"data/title/validate.tsv.gz\"\n",
    "data = pd.read_csv(data_path, sep=\"\\t\", compression=\"gzip\", header=0, names=[\"title\", \"label-idn\"])\n",
    "data[\"label-idn\"] = data[\"label-idn\"].apply(strip_uri)\n"
   ]
  },
  {
   "cell_type": "code",
   "execution_count": 2,
   "metadata": {},
   "outputs": [],
   "source": [
    "retriever_model_str = 'BAAI/bge-m3'"
   ]
  },
  {
   "cell_type": "code",
   "execution_count": 4,
   "metadata": {},
   "outputs": [],
   "source": [
    "data_path = \"data/title_test_predictions.feather\"\n",
    "data = pd.read_feather(data_path)\n",
    "gnd = pickle.load(open(\"data/gnd.pickle\", \"rb\"))"
   ]
  },
  {
   "cell_type": "code",
   "execution_count": 5,
   "metadata": {},
   "outputs": [
    {
     "data": {
      "text/html": [
       "<div>\n",
       "<style scoped>\n",
       "    .dataframe tbody tr th:only-of-type {\n",
       "        vertical-align: middle;\n",
       "    }\n",
       "\n",
       "    .dataframe tbody tr th {\n",
       "        vertical-align: top;\n",
       "    }\n",
       "\n",
       "    .dataframe thead th {\n",
       "        text-align: right;\n",
       "    }\n",
       "</style>\n",
       "<table border=\"1\" class=\"dataframe\">\n",
       "  <thead>\n",
       "    <tr style=\"text-align: right;\">\n",
       "      <th></th>\n",
       "      <th>title</th>\n",
       "      <th>label-idn</th>\n",
       "      <th>label_list</th>\n",
       "      <th>predictions</th>\n",
       "    </tr>\n",
       "  </thead>\n",
       "  <tbody>\n",
       "    <tr>\n",
       "      <th>0</th>\n",
       "      <td>Die Landesministerkonferenzen und der Bund koo...</td>\n",
       "      <td>[040118827, 040320553, 040340139, 041303059, 0...</td>\n",
       "      <td>[Deutschland, Konferenz, Länder, Minister, Koo...</td>\n",
       "      <td>[Föderalismus, Deutschland (Bundesrepublik), B...</td>\n",
       "    </tr>\n",
       "    <tr>\n",
       "      <th>1</th>\n",
       "      <td>Die Geburt der Philosophie im Garten der Lüst...</td>\n",
       "      <td>[041359380, 041373073, 118530941]</td>\n",
       "      <td>[Plato : Symposium, Foucault, Michel : L' usag...</td>\n",
       "      <td>[Philosophie, Michel Fouca, Geburt, Platon, Lu...</td>\n",
       "    </tr>\n",
       "    <tr>\n",
       "      <th>2</th>\n",
       "      <td>Das Geldwäscherisiko verschiedener Glücksspi...</td>\n",
       "      <td>[040118827, 040213293, 040278336, 040763080, 0...</td>\n",
       "      <td>[Deutschland, Glücksspiel, Italien, Prävention...</td>\n",
       "      <td>[Glücksspiel, Geldwäsche, Wett, Risikobereitsc...</td>\n",
       "    </tr>\n",
       "    <tr>\n",
       "      <th>3</th>\n",
       "      <td>Entwicklung von großvolumigen CdTe- und (Cd,Zn...</td>\n",
       "      <td>[04124298X, 041471172, 041690257, 041716140, 0...</td>\n",
       "      <td>[Teilchendetektor, Cadmiumtellurid, Masse (Phy...</td>\n",
       "      <td>[Kondensationswirkung, Mischk, Keramische Schu...</td>\n",
       "    </tr>\n",
       "    <tr>\n",
       "      <th>4</th>\n",
       "      <td>Integrierte bioinformatische Methoden zur repr...</td>\n",
       "      <td>[042002303, 042900913, 956645356, 960068600]</td>\n",
       "      <td>[Genanalyse, Computational chemistry, Open Sou...</td>\n",
       "      <td>[Bioinformatik, Biomarker, Biologische Prozess...</td>\n",
       "    </tr>\n",
       "  </tbody>\n",
       "</table>\n",
       "</div>"
      ],
      "text/plain": [
       "                                               title  \\\n",
       "0  Die Landesministerkonferenzen und der Bund koo...   \n",
       "1  Die Geburt der Philosophie im Garten der Lüst...   \n",
       "2  Das Geldwäscherisiko verschiedener Glücksspi...   \n",
       "3  Entwicklung von großvolumigen CdTe- und (Cd,Zn...   \n",
       "4  Integrierte bioinformatische Methoden zur repr...   \n",
       "\n",
       "                                           label-idn  \\\n",
       "0  [040118827, 040320553, 040340139, 041303059, 0...   \n",
       "1                  [041359380, 041373073, 118530941]   \n",
       "2  [040118827, 040213293, 040278336, 040763080, 0...   \n",
       "3  [04124298X, 041471172, 041690257, 041716140, 0...   \n",
       "4       [042002303, 042900913, 956645356, 960068600]   \n",
       "\n",
       "                                          label_list  \\\n",
       "0  [Deutschland, Konferenz, Länder, Minister, Koo...   \n",
       "1  [Plato : Symposium, Foucault, Michel : L' usag...   \n",
       "2  [Deutschland, Glücksspiel, Italien, Prävention...   \n",
       "3  [Teilchendetektor, Cadmiumtellurid, Masse (Phy...   \n",
       "4  [Genanalyse, Computational chemistry, Open Sou...   \n",
       "\n",
       "                                         predictions  \n",
       "0  [Föderalismus, Deutschland (Bundesrepublik), B...  \n",
       "1  [Philosophie, Michel Fouca, Geburt, Platon, Lu...  \n",
       "2  [Glücksspiel, Geldwäsche, Wett, Risikobereitsc...  \n",
       "3  [Kondensationswirkung, Mischk, Keramische Schu...  \n",
       "4  [Bioinformatik, Biomarker, Biologische Prozess...  "
      ]
     },
     "execution_count": 5,
     "metadata": {},
     "output_type": "execute_result"
    }
   ],
   "source": [
    "data.head()"
   ]
  },
  {
   "cell_type": "code",
   "execution_count": 6,
   "metadata": {},
   "outputs": [],
   "source": [
    "retriever = Retriever(retriever_model_str, device=DEVICE)"
   ]
  },
  {
   "cell_type": "code",
   "execution_count": 7,
   "metadata": {},
   "outputs": [],
   "source": [
    "label_strings, label_mapping = get_label_mapping(gnd)"
   ]
  },
  {
   "cell_type": "code",
   "execution_count": 8,
   "metadata": {},
   "outputs": [
    {
     "data": {
      "application/vnd.jupyter.widget-view+json": {
       "model_id": "5eb032d682d749b79ecd86e460e3cd22",
       "version_major": 2,
       "version_minor": 0
      },
      "text/plain": [
       "Batches:   0%|          | 0/677 [00:00<?, ?it/s]"
      ]
     },
     "metadata": {},
     "output_type": "display_data"
    }
   ],
   "source": [
    "index = retriever.fit(labels=label_strings, batch_size=512)"
   ]
  },
  {
   "cell_type": "code",
   "execution_count": 24,
   "metadata": {},
   "outputs": [
    {
     "name": "stderr",
     "output_type": "stream",
     "text": [
      "100%|██████████| 8414/8414 [04:07<00:00, 34.06it/s]\n"
     ]
    }
   ],
   "source": [
    "mapped_labels = []\n",
    "for data_point in tqdm(data.itertuples(), total=len(data)):\n",
    "    data_point = data_point._asdict()\n",
    "    predictions = data_point[\"predictions\"]\n",
    "    sim, idns = retriever.retrieve(\n",
    "        mapping=label_mapping,\n",
    "        index=index,\n",
    "        labels=label_strings,\n",
    "        texts=predictions,\n",
    "        top_k=2,\n",
    "        batch_size=512)\n",
    "    idns = [i[0] for i in idns]\n",
    "    mapped_labels.append(idns)"
   ]
  },
  {
   "cell_type": "code",
   "execution_count": 25,
   "metadata": {},
   "outputs": [],
   "source": [
    "idns = mapped_labels"
   ]
  },
  {
   "cell_type": "code",
   "execution_count": 26,
   "metadata": {},
   "outputs": [
    {
     "name": "stdout",
     "output_type": "stream",
     "text": [
      "Recall@10: 0.22009574986458752\n",
      "Precision@10: 0.06360827192773949\n",
      "F1@10: 0.09210844396307787\n",
      "=====================================\n",
      "Recall@1: 0.049492124031582076\n",
      "Precision@1: 0.1344188257665795\n",
      "F1@1: 0.06662975655725834\n",
      "-----------------\n",
      "Recall@2: 0.10462712979649039\n",
      "Precision@2: 0.14374851438079392\n",
      "F1@2: 0.10946985692647684\n",
      "-----------------\n",
      "Recall@3: 0.1579886436227059\n",
      "Precision@3: 0.1482053719990492\n",
      "F1@3: 0.13819444523016303\n",
      "-----------------\n",
      "Recall@4: 0.1967831303076133\n",
      "Precision@4: 0.14089612550511052\n",
      "F1@4: 0.14911642443417217\n",
      "-----------------\n",
      "Recall@5: 0.21481585920616109\n",
      "Precision@5: 0.1239838364630378\n",
      "F1@5: 0.14356928216719617\n",
      "-----------------\n"
     ]
    }
   ],
   "source": [
    "recall_dict = {}\n",
    "precision_dict = {}\n",
    "f1_dict = {}\n",
    "\n",
    "for k in range(1, 6):\n",
    "    recall_dict[k] = []\n",
    "    precision_dict[k] = []\n",
    "    f1_dict[k] = []\n",
    "    for preds_i, golds_i in zip(idns, data[\"label-idn\"]):\n",
    "        recall_dict[k].append(recall_at_k(\n",
    "            y_pred=preds_i, y_true=golds_i, k=k))\n",
    "        precision_dict[k].append(precision_at_k(y_pred=preds_i, y_true=golds_i, k=k))\n",
    "        f1_dict[k].append(f1_at_k(y_pred=preds_i, y_true=golds_i, k=k))\n",
    "\n",
    "# All predictions\n",
    "rec_all = []\n",
    "prec_all = []\n",
    "f1_all = []\n",
    "for preds_i, golds_i in zip(idns, data[\"label-idn\"]):\n",
    "    rec_all.append(recall_at_k(y_pred=preds_i, y_true=golds_i, k=10))\n",
    "    prec_all.append(precision_at_k(y_pred=preds_i, y_true=golds_i, k=10))\n",
    "    f1_all.append(f1_at_k(y_pred=preds_i, y_true=golds_i, k=10))\n",
    "\n",
    "print(f\"Recall@10: {mean(rec_all)}\")\n",
    "print(f\"Precision@10: {mean(prec_all)}\")\n",
    "print(f\"F1@10: {mean(f1_all)}\")\n",
    "print(\"=====================================\")\n",
    "for k in range(1, 6):\n",
    "    print(f\"Recall@{k}: {mean(recall_dict[k])}\")\n",
    "    print(f\"Precision@{k}: {mean(precision_dict[k])}\")\n",
    "    print(f\"F1@{k}: {mean(f1_dict[k])}\")\n",
    "    print(\"-----------------\")"
   ]
  },
  {
   "cell_type": "code",
   "execution_count": 44,
   "metadata": {},
   "outputs": [
    {
     "name": "stdout",
     "output_type": "stream",
     "text": [
      "Recall@10: 0.2607239949259203\n",
      "Precision@10: 0.07572474756391588\n",
      "F1@10: 0.10781349618628097\n"
     ]
    }
   ],
   "source": [
    "idn_plus_neighbors = retriever.get_neighbors(idns, graph=gnd, k=1)\n",
    "\n",
    "rec_all = []\n",
    "prec_all = []\n",
    "f1_all = []\n",
    "for preds_i, golds_i in zip(idn_plus_neighbors, data[\"label-idn\"]):\n",
    "    rec_all.append(recall_at_k(y_pred=preds_i, y_true=golds_i, k=len(preds_i)))\n",
    "    prec_all.append(precision_at_k(y_pred=preds_i, y_true=golds_i, k=len(preds_i)))\n",
    "    f1_all.append(f1_at_k(y_pred=preds_i, y_true=golds_i, k=len(preds_i)))\n",
    "\n",
    "print(f\"Recall@10: {mean(rec_all)}\")\n",
    "print(f\"Precision@10: {mean(prec_all)}\")\n",
    "print(f\"F1@10: {mean(f1_all)}\")"
   ]
  },
  {
   "cell_type": "code",
   "execution_count": 45,
   "metadata": {},
   "outputs": [],
   "source": [
    "reranker_str = 'BAAI/bge-reranker-v2-m3'\n",
    "reranker = BGEReranker(reranker_str, device=DEVICE)\n"
   ]
  },
  {
   "cell_type": "code",
   "execution_count": 46,
   "metadata": {},
   "outputs": [
    {
     "name": "stderr",
     "output_type": "stream",
     "text": [
      "  0%|          | 0/8414 [00:00<?, ?it/s]"
     ]
    },
    {
     "name": "stderr",
     "output_type": "stream",
     "text": [
      "100%|██████████| 8414/8414 [00:00<00:00, 44957.67it/s]\n"
     ]
    }
   ],
   "source": [
    "\n",
    "pair_dict = {\n",
    "    \"pair\": [],\n",
    "    \"label-idn\": [],\n",
    "    \"title-idx\": []\n",
    "}\n",
    "\n",
    "c = 0\n",
    "for idx, (row, idn_i_list) in tqdm(enumerate(zip(data.itertuples(), idn_plus_neighbors)), total=len(data)):\n",
    "    title_i = row.title\n",
    "    for idn_i in idn_i_list:\n",
    "        idn_i_str = get_pref_label(gnd, idn_i)\n",
    "        pair_dict[\"pair\"].append((title_i, idn_i_str))\n",
    "        pair_dict[\"label-idn\"].append(idn_i)\n",
    "        pair_dict[\"title-idx\"].append(idx)\n",
    "        c += 1"
   ]
  },
  {
   "cell_type": "code",
   "execution_count": 47,
   "metadata": {},
   "outputs": [],
   "source": [
    "ds = Dataset.from_dict(pair_dict)"
   ]
  },
  {
   "cell_type": "code",
   "execution_count": 48,
   "metadata": {},
   "outputs": [],
   "source": [
    "def tokenize(example):\n",
    "    pair = example[\"pair\"]\n",
    "    return reranker.tokenizer(pair, padding=True, truncation=True, return_tensors='pt', max_length=64)"
   ]
  },
  {
   "cell_type": "code",
   "execution_count": 49,
   "metadata": {},
   "outputs": [
    {
     "data": {
      "application/vnd.jupyter.widget-view+json": {
       "model_id": "1f8b0b9dee6241219fcec873ee3a5b47",
       "version_major": 2,
       "version_minor": 0
      },
      "text/plain": [
       "Map:   0%|          | 0/88358 [00:00<?, ? examples/s]"
      ]
     },
     "metadata": {},
     "output_type": "display_data"
    }
   ],
   "source": [
    "ds = ds.map(tokenize, batched=True, batch_size=2000)\n",
    "ds.set_format(type='torch', columns=['input_ids', 'attention_mask', 'label-idn', 'title-idx'])"
   ]
  },
  {
   "cell_type": "code",
   "execution_count": 50,
   "metadata": {},
   "outputs": [],
   "source": [
    "dataloader = DataLoader(ds, batch_size=1000, shuffle=False)"
   ]
  },
  {
   "cell_type": "code",
   "execution_count": 51,
   "metadata": {},
   "outputs": [
    {
     "name": "stderr",
     "output_type": "stream",
     "text": [
      "100%|██████████| 89/89 [03:19<00:00,  2.25s/it]\n"
     ]
    }
   ],
   "source": [
    "sim = {\n",
    "    \"title-idx\": [],\n",
    "    \"label-idn\": [],\n",
    "    \"score\": []\n",
    "}\n",
    "\n",
    "for batch in tqdm(dataloader):\n",
    "    scores = reranker.similarities(\n",
    "        batch[\"input_ids\"].to(DEVICE),\n",
    "        batch[\"attention_mask\"].to(DEVICE)\n",
    "    )\n",
    "    sim[\"title-idx\"].extend(batch[\"title-idx\"])\n",
    "    sim[\"label-idn\"].extend(batch[\"label-idn\"])\n",
    "    sim[\"score\"].extend(scores.tolist())"
   ]
  },
  {
   "cell_type": "code",
   "execution_count": 52,
   "metadata": {},
   "outputs": [],
   "source": [
    "df = pd.DataFrame(sim)\n",
    "df[\"title-idx\"] = df[\"title-idx\"].astype(int)"
   ]
  },
  {
   "cell_type": "code",
   "execution_count": 53,
   "metadata": {},
   "outputs": [
    {
     "name": "stderr",
     "output_type": "stream",
     "text": [
      "  0%|          | 0/8414 [00:00<?, ?it/s]"
     ]
    },
    {
     "name": "stderr",
     "output_type": "stream",
     "text": [
      "100%|██████████| 8414/8414 [00:04<00:00, 2026.36it/s]"
     ]
    },
    {
     "name": "stdout",
     "output_type": "stream",
     "text": [
      "Recall@1: 0.14138843916298158\n",
      "Precision@1: 0.3555978131685286\n",
      "F1@1: 0.18475168098415068\n",
      "-----------------\n",
      "Recall@2: 0.19283142048770763\n",
      "Precision@2: 0.2598050867601616\n",
      "F1@2: 0.20016874813642108\n",
      "-----------------\n",
      "Recall@3: 0.2166139686581807\n",
      "Precision@3: 0.20069725061405594\n",
      "F1@3: 0.1885176168253043\n",
      "-----------------\n",
      "Recall@4: 0.23182684487949523\n",
      "Precision@4: 0.16478488233895888\n",
      "F1@4: 0.17515438516221526\n",
      "-----------------\n",
      "Recall@5: 0.24194759034906407\n",
      "Precision@5: 0.13931542666983598\n",
      "F1@5: 0.16160873484293614\n",
      "-----------------\n"
     ]
    },
    {
     "name": "stderr",
     "output_type": "stream",
     "text": [
      "\n"
     ]
    }
   ],
   "source": [
    "recall_dict = {}\n",
    "precision_dict = {}\n",
    "f1_dict = {}\n",
    "\n",
    "for idx in tqdm(set(df[\"title-idx\"])):\n",
    "    df_i = df[df[\"title-idx\"] == idx]\n",
    "    df_i = df_i.sort_values(by=\"score\", ascending=False)\n",
    "    pred = df_i[\"label-idn\"].tolist()\n",
    "    gold = data[\"label-idn\"].iloc[idx]\n",
    "    for k in range(1, 6):\n",
    "        if k not in recall_dict:\n",
    "            recall_dict[k] = []\n",
    "            precision_dict[k] = []\n",
    "            f1_dict[k] = []\n",
    "        recall_dict[k].append(recall_at_k(y_pred=pred, y_true=gold, k=k))\n",
    "        precision_dict[k].append(precision_at_k(y_pred=pred, y_true=gold, k=k))\n",
    "        f1_dict[k].append(f1_at_k(y_pred=pred, y_true=gold, k=k))\n",
    "\n",
    "for k in range(1, 6):\n",
    "    print(f\"Recall@{k}: {mean(recall_dict[k])}\")\n",
    "    print(f\"Precision@{k}: {mean(precision_dict[k])}\")\n",
    "    print(f\"F1@{k}: {mean(f1_dict[k])}\")\n",
    "    print(\"-----------------\")"
   ]
  },
  {
   "cell_type": "code",
   "execution_count": 82,
   "metadata": {},
   "outputs": [],
   "source": [
    "df.to_feather(\"data/title/validate_reranked_3hop.feather\")"
   ]
  }
 ],
 "metadata": {
  "kernelspec": {
   "display_name": "peft",
   "language": "python",
   "name": "python3"
  },
  "language_info": {
   "codemirror_mode": {
    "name": "ipython",
    "version": 3
   },
   "file_extension": ".py",
   "mimetype": "text/x-python",
   "name": "python",
   "nbconvert_exporter": "python",
   "pygments_lexer": "ipython3",
   "version": "3.12.8"
  }
 },
 "nbformat": 4,
 "nbformat_minor": 2
}
