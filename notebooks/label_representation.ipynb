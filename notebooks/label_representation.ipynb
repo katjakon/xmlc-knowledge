{
 "cells": [
  {
   "cell_type": "code",
   "execution_count": 5,
   "metadata": {},
   "outputs": [],
   "source": [
    "from sentence_transformers import SentenceTransformer\n",
    "from gnd_dataset import GNDDataset\n",
    "from gnd_graph import GNDGraph\n",
    "from data_collator import DataCollator\n",
    "import yaml\n",
    "from tqdm import tqdm\n",
    "import os\n",
    "import torch\n",
    "from torch.utils.data import DataLoader\n",
    "from torch import nn\n",
    "from datasets import Dataset\n",
    "import pickle\n",
    "from retriever import Retriever\n",
    "import faiss\n",
    "import pandas as pd\n",
    "\n",
    "from ast import literal_eval\n",
    "from utils import  load_model\n",
    "from safetensors import safe_open\n",
    "\n",
    "from statistics import mean, stdev"
   ]
  },
  {
   "cell_type": "code",
   "execution_count": 6,
   "metadata": {},
   "outputs": [],
   "source": [
    "gnd_path = \"data/gnd.pickle\"\n",
    "config_path = \"configs_small/dev.yaml\"\n",
    "# Load config \n",
    "with open(config_path, \"r\") as f:\n",
    "    config = yaml.safe_load(f)\n",
    "gnd_graph = pickle.load(open(gnd_path, \"rb\"))\n",
    "gnd_graph = GNDGraph(gnd_graph)\n",
    "\n",
    "path = \"pt_models/temp-testing/best_model/model.safetensors\"\n",
    "model, tokenizer = load_model(path, config=config, device=\"cuda:0\")"
   ]
  },
  {
   "cell_type": "code",
   "execution_count": 7,
   "metadata": {},
   "outputs": [],
   "source": [
    "ds = GNDDataset(\"datasets/no_context\", \n",
    "                gnd_graph=gnd_graph, \n",
    "                config=config, \n",
    "                load_from_disk=True,)\n",
    "ds = ds[\"test\"]\n",
    "collator = DataCollator( \n",
    "    tokenizer=tokenizer, \n",
    "    graph=gnd_graph,\n",
    "    config=config,\n",
    "    device=\"cuda:0\")\n",
    "dataloader = DataLoader(\n",
    "    ds, \n",
    "    batch_size=1, \n",
    "    collate_fn= lambda x: collator(x, inference=True),\n",
    "    shuffle=False,\n",
    "    num_workers=0,\n",
    ")"
   ]
  },
  {
   "cell_type": "code",
   "execution_count": 8,
   "metadata": {},
   "outputs": [
    {
     "name": "stderr",
     "output_type": "stream",
     "text": [
      "Setting `pad_token_id` to `eos_token_id`:128001 for open-end generation.\n",
      "Setting `pad_token_id` to `eos_token_id`:128001 for open-end generation.\n"
     ]
    },
    {
     "name": "stdout",
     "output_type": "stream",
     "text": [
      "Die Landesministerkonferenzen und der Bund kooperativer Föderalismus im Schatten der Politikverflechtung\n",
      "Du bist ein hilfreicher Assistent für Bibliothekare. Du hilfst bei der Katalogisierung von Büchern. Beispiel: Titel: Die Entdeckung der Langsamkeit. Schlagwörter: Entdeckung; Langsamkeit; Natur; Wissenschaft; Philosophie. Titel: Die Landesministerkonferenzen und der Bund kooperativer Föderalismus im Schatten der Politikverflechtung. Schlagwörter: \n",
      "Debroughton-\n",
      "------------------------------------------------------------------------------------------\n",
      "Die Geburt der Philosophie im Garten der Lüste Michel Foucaults Archäologie des platonischen Eros\n",
      "Du bist ein hilfreicher Assistent für Bibliothekare. Du hilfst bei der Katalogisierung von Büchern. Beispiel: Titel: Die Entdeckung der Langsamkeit. Schlagwörter: Entdeckung; Langsamkeit; Natur; Wissenschaft; Philosophie. Titel: Die Geburt der Philosophie im Garten der Lüste Michel Foucaults Archäologie des platonischen Eros. Schlagwörter: \n"
     ]
    },
    {
     "name": "stderr",
     "output_type": "stream",
     "text": [
      "Setting `pad_token_id` to `eos_token_id`:128001 for open-end generation.\n"
     ]
    },
    {
     "name": "stdout",
     "output_type": "stream",
     "text": [
      "Philosophy\n",
      "------------------------------------------------------------------------------------------\n",
      "Das Geldwäscherisiko verschiedener Glücksspielarten\n",
      "Du bist ein hilfreicher Assistent für Bibliothekare. Du hilfst bei der Katalogisierung von Büchern. Beispiel: Titel: Die Entdeckung der Langsamkeit. Schlagwörter: Entdeckung; Langsamkeit; Natur; Wissenschaft; Philosophie. Titel: Das Geldwäscherisiko verschiedener Glücksspielarten. Schlagwörter: \n"
     ]
    },
    {
     "name": "stderr",
     "output_type": "stream",
     "text": [
      "Setting `pad_token_id` to `eos_token_id`:128001 for open-end generation.\n"
     ]
    },
    {
     "name": "stdout",
     "output_type": "stream",
     "text": [
      "Glav (Berefifty (Berefifty (Berefifty (Bere\n",
      "------------------------------------------------------------------------------------------\n",
      "Entwicklung von großvolumigen CdTe- und (Cd,Zn)Te-Detektorsystemen\n",
      "Du bist ein hilfreicher Assistent für Bibliothekare. Du hilfst bei der Katalogisierung von Büchern. Beispiel: Titel: Die Entdeckung der Langsamkeit. Schlagwörter: Entdeckung; Langsamkeit; Natur; Wissenschaft; Philosophie. Titel: Entwicklung von großvolumigen CdTe- und (Cd,Zn)Te-Detektorsystemen. Schlagwörter: \n"
     ]
    },
    {
     "name": "stderr",
     "output_type": "stream",
     "text": [
      "Setting `pad_token_id` to `eos_token_id`:128001 for open-end generation.\n"
     ]
    },
    {
     "name": "stdout",
     "output_type": "stream",
     "text": [
      "Entiregiving (Berefifty (Berefifty (Berefifty (\n",
      "------------------------------------------------------------------------------------------\n",
      "Integrierte bioinformatische Methoden zur reproduzierbaren und transparenten Hochdurchsatz-Analyse von Life Science Big Data\n",
      "Du bist ein hilfreicher Assistent für Bibliothekare. Du hilfst bei der Katalogisierung von Büchern. Beispiel: Titel: Die Entdeckung der Langsamkeit. Schlagwörter: Entdeckung; Langsamkeit; Natur; Wissenschaft; Philosophie. Titel: Integrierte bioinformatische Methoden zur reproduzierbaren und transparenten Hochdurchsatz-Analyse von Life Science Big Data. Schlagwörter: \n"
     ]
    },
    {
     "name": "stderr",
     "output_type": "stream",
     "text": [
      "Setting `pad_token_id` to `eos_token_id`:128001 for open-end generation.\n"
     ]
    },
    {
     "name": "stdout",
     "output_type": "stream",
     "text": [
      "BioScience in (Berefifty (Berefifty (Berefifty (B\n",
      "------------------------------------------------------------------------------------------\n",
      "Untersuchung der Barriereschädigung des choroidalen Plexusepithels durch Streptococcus suis und deren pharmakologischen Beeinflussbarkeit\n",
      "Du bist ein hilfreicher Assistent für Bibliothekare. Du hilfst bei der Katalogisierung von Büchern. Beispiel: Titel: Die Entdeckung der Langsamkeit. Schlagwörter: Entdeckung; Langsamkeit; Natur; Wissenschaft; Philosophie. Titel: Untersuchung der Barriereschädigung des choroidalen Plexusepithels durch Streptococcus suis und deren pharmakologischen Beeinflussbarkeit. Schlagwörter: \n"
     ]
    },
    {
     "name": "stderr",
     "output_type": "stream",
     "text": [
      "Setting `pad_token_id` to `eos_token_id`:128001 for open-end generation.\n",
      "Setting `pad_token_id` to `eos_token_id`:128001 for open-end generation.\n"
     ]
    },
    {
     "name": "stdout",
     "output_type": "stream",
     "text": [
      "Chin (Berefifty (Berefifty (Berefifty (Bere\n",
      "------------------------------------------------------------------------------------------\n",
      "iOS-Apps programmieren mit Swift Der leichte Einstieg in die Entwicklung für iPhone, iPad und Co. – inkl. Apple Watch und Apple TV\n",
      "Du bist ein hilfreicher Assistent für Bibliothekare. Du hilfst bei der Katalogisierung von Büchern. Beispiel: Titel: Die Entdeckung der Langsamkeit. Schlagwörter: Entdeckung; Langsamkeit; Natur; Wissenschaft; Philosophie. Titel: iOS-Apps programmieren mit Swift Der leichte Einstieg in die Entwicklung für iPhone, iPad und Co. – inkl. Apple Watch und Apple TV. Schlagwörter: \n",
      "iOS\n",
      "------------------------------------------------------------------------------------------\n",
      "Kunstverdacht Art-suspect\n",
      "Du bist ein hilfreicher Assistent für Bibliothekare. Du hilfst bei der Katalogisierung von Büchern. Beispiel: Titel: Die Entdeckung der Langsamkeit. Schlagwörter: Entdeckung; Langsamkeit; Natur; Wissenschaft; Philosophie. Titel: Kunstverdacht Art-suspect. Schlagwörter: \n"
     ]
    },
    {
     "name": "stderr",
     "output_type": "stream",
     "text": [
      "Setting `pad_token_id` to `eos_token_id`:128001 for open-end generation.\n"
     ]
    },
    {
     "name": "stdout",
     "output_type": "stream",
     "text": [
      "Köberl'\n",
      "------------------------------------------------------------------------------------------\n",
      "Pattern Matching auf FPGAs\n",
      "Du bist ein hilfreicher Assistent für Bibliothekare. Du hilfst bei der Katalogisierung von Büchern. Beispiel: Titel: Die Entdeckung der Langsamkeit. Schlagwörter: Entdeckung; Langsamkeit; Natur; Wissenschaft; Philosophie. Titel: Pattern Matching auf FPGAs. Schlagwörter: \n"
     ]
    },
    {
     "name": "stderr",
     "output_type": "stream",
     "text": [
      "Setting `pad_token_id` to `eos_token_id`:128001 for open-end generation.\n"
     ]
    },
    {
     "name": "stdout",
     "output_type": "stream",
     "text": [
      "Fifty (Berefifty (Berefifty (Berefifty (Bere\n",
      "------------------------------------------------------------------------------------------\n",
      "Partizipative Planungsinstrumente für eine nachhaltige multifunktionale Waldbewirtschaftung vergleichende Anwendung und Nutzerevaluation des Analytisch Hierarchischen Prozesses und der Nutzwertanalyse\n",
      "Du bist ein hilfreicher Assistent für Bibliothekare. Du hilfst bei der Katalogisierung von Büchern. Beispiel: Titel: Die Entdeckung der Langsamkeit. Schlagwörter: Entdeckung; Langsamkeit; Natur; Wissenschaft; Philosophie. Titel: Partizipative Planungsinstrumente für eine nachhaltige multifunktionale Waldbewirtschaftung vergleichende Anwendung und Nutzerevaluation des Analytisch Hierarchischen Prozesses und der Nutzwertanalyse. Schlagwörter: \n"
     ]
    },
    {
     "name": "stderr",
     "output_type": "stream",
     "text": [
      "Setting `pad_token_id` to `eos_token_id`:128001 for open-end generation.\n",
      "Setting `pad_token_id` to `eos_token_id`:128001 for open-end generation.\n"
     ]
    },
    {
     "name": "stdout",
     "output_type": "stream",
     "text": [
      "Waltherapeutic (Berefifty (Berefifty (Berefifty (B\n",
      "------------------------------------------------------------------------------------------\n",
      "Das Säugetier von Gottes Gnaden Evolution, Bewusstsein, Freiheit\n",
      "Du bist ein hilfreicher Assistent für Bibliothekare. Du hilfst bei der Katalogisierung von Büchern. Beispiel: Titel: Die Entdeckung der Langsamkeit. Schlagwörter: Entdeckung; Langsamkeit; Natur; Wissenschaft; Philosophie. Titel: Das Säugetier von Gottes Gnaden Evolution, Bewusstsein, Freiheit. Schlagwörter: \n",
      "Evolution\n",
      "------------------------------------------------------------------------------------------\n",
      "Traumwohnungen für meine Meerschweinchen\n",
      "Du bist ein hilfreicher Assistent für Bibliothekare. Du hilfst bei der Katalogisierung von Büchern. Beispiel: Titel: Die Entdeckung der Langsamkeit. Schlagwörter: Entdeckung; Langsamkeit; Natur; Wissenschaft; Philosophie. Titel: Traumwohnungen für meine Meerschweinchen. Schlagwörter: \n"
     ]
    },
    {
     "name": "stderr",
     "output_type": "stream",
     "text": [
      "Setting `pad_token_id` to `eos_token_id`:128001 for open-end generation.\n"
     ]
    },
    {
     "name": "stdout",
     "output_type": "stream",
     "text": [
      "Mea (Berefifty (Berefifty (Berefifty (Bere\n",
      "------------------------------------------------------------------------------------------\n",
      "Unser Projekt Bauernhof 100 Anleitungen, Rezepte und Ideen für DIY und Selbstversorgung\n",
      "Du bist ein hilfreicher Assistent für Bibliothekare. Du hilfst bei der Katalogisierung von Büchern. Beispiel: Titel: Die Entdeckung der Langsamkeit. Schlagwörter: Entdeckung; Langsamkeit; Natur; Wissenschaft; Philosophie. Titel: Unser Projekt Bauernhof 100 Anleitungen, Rezepte und Ideen für DIY und Selbstversorgung. Schlagwörter: \n"
     ]
    },
    {
     "name": "stderr",
     "output_type": "stream",
     "text": [
      "Setting `pad_token_id` to `eos_token_id`:128001 for open-end generation.\n"
     ]
    },
    {
     "name": "stdout",
     "output_type": "stream",
     "text": [
      "Berefifty (Berefifty (Berefifty (Berefifty (\n",
      "------------------------------------------------------------------------------------------\n",
      "Handbuch Permakultur Klug planen und nachhaltig gärtnern\n",
      "Du bist ein hilfreicher Assistent für Bibliothekare. Du hilfst bei der Katalogisierung von Büchern. Beispiel: Titel: Die Entdeckung der Langsamkeit. Schlagwörter: Entdeckung; Langsamkeit; Natur; Wissenschaft; Philosophie. Titel: Handbuch Permakultur Klug planen und nachhaltig gärtnern. Schlagwörter: \n"
     ]
    },
    {
     "name": "stderr",
     "output_type": "stream",
     "text": [
      "Setting `pad_token_id` to `eos_token_id`:128001 for open-end generation.\n"
     ]
    },
    {
     "name": "stdout",
     "output_type": "stream",
     "text": [
      "Perfifty (Berefifty (Berefifty (Berefifty (B\n",
      "------------------------------------------------------------------------------------------\n",
      "Das Liebesleben der Pflanzen Eine unverblümte Kulturgeschichte\n",
      "Du bist ein hilfreicher Assistent für Bibliothekare. Du hilfst bei der Katalogisierung von Büchern. Beispiel: Titel: Die Entdeckung der Langsamkeit. Schlagwörter: Entdeckung; Langsamkeit; Natur; Wissenschaft; Philosophie. Titel: Das Liebesleben der Pflanzen Eine unverblümte Kulturgeschichte. Schlagwörter: \n"
     ]
    },
    {
     "name": "stderr",
     "output_type": "stream",
     "text": [
      "Setting `pad_token_id` to `eos_token_id`:128001 for open-end generation.\n"
     ]
    },
    {
     "name": "stdout",
     "output_type": "stream",
     "text": [
      "Pattaching (Berefifty (Berefifty (Berefifty (B\n",
      "------------------------------------------------------------------------------------------\n",
      "Bienen gesund erhalten Krankheiten vorbeugen, erkennen und behandeln\n",
      "Du bist ein hilfreicher Assistent für Bibliothekare. Du hilfst bei der Katalogisierung von Büchern. Beispiel: Titel: Die Entdeckung der Langsamkeit. Schlagwörter: Entdeckung; Langsamkeit; Natur; Wissenschaft; Philosophie. Titel: Bienen gesund erhalten Krankheiten vorbeugen, erkennen und behandeln. Schlagwörter: \n"
     ]
    },
    {
     "name": "stderr",
     "output_type": "stream",
     "text": [
      "Setting `pad_token_id` to `eos_token_id`:128001 for open-end generation.\n"
     ]
    },
    {
     "name": "stdout",
     "output_type": "stream",
     "text": [
      "Berefifty (Berefifty (Berefifty (Berefifty (\n",
      "------------------------------------------------------------------------------------------\n",
      "Blitzrezepte für Hundekekse Gesunde Leckereien selber backen\n",
      "Du bist ein hilfreicher Assistent für Bibliothekare. Du hilfst bei der Katalogisierung von Büchern. Beispiel: Titel: Die Entdeckung der Langsamkeit. Schlagwörter: Entdeckung; Langsamkeit; Natur; Wissenschaft; Philosophie. Titel: Blitzrezepte für Hundekekse Gesunde Leckereien selber backen. Schlagwörter: \n"
     ]
    },
    {
     "name": "stderr",
     "output_type": "stream",
     "text": [
      "Setting `pad_token_id` to `eos_token_id`:128001 for open-end generation.\n",
      "Setting `pad_token_id` to `eos_token_id`:128001 for open-end generation.\n"
     ]
    },
    {
     "name": "stdout",
     "output_type": "stream",
     "text": [
      "Helenkevin (Berefifty (Berefifty (Berefifty (\n",
      "------------------------------------------------------------------------------------------\n",
      "Igel sucht Unterschlupf So helfe ich Tieren über den Winter\n",
      "Du bist ein hilfreicher Assistent für Bibliothekare. Du hilfst bei der Katalogisierung von Büchern. Beispiel: Titel: Die Entdeckung der Langsamkeit. Schlagwörter: Entdeckung; Langsamkeit; Natur; Wissenschaft; Philosophie. Titel: Igel sucht Unterschlupf So helfe ich Tieren über den Winter. Schlagwörter: \n",
      "I'my\n",
      "------------------------------------------------------------------------------------------\n",
      "Bewässerung im Garten- und Landschaftsbau\n",
      "Du bist ein hilfreicher Assistent für Bibliothekare. Du hilfst bei der Katalogisierung von Büchern. Beispiel: Titel: Die Entdeckung der Langsamkeit. Schlagwörter: Entdeckung; Langsamkeit; Natur; Wissenschaft; Philosophie. Titel: Bewässerung im Garten- und Landschaftsbau. Schlagwörter: \n",
      "Gewa (Berefifty (Berefifty (Berefifty (B\n",
      "------------------------------------------------------------------------------------------\n"
     ]
    }
   ],
   "source": [
    "model = model.to(\"cuda:0\")\n",
    "model.eval()\n",
    "c = 0\n",
    "for i in dataloader:\n",
    "    c += 1\n",
    "    if c >= 20:\n",
    "        break\n",
    "    with torch.no_grad():\n",
    "        print(i[\"title\"])\n",
    "        i = {k: v.to(\"cuda:0\").unsqueeze(0) for k, v in i.items() if isinstance(v, torch.Tensor)}\n",
    "        print(tokenizer.decode(i[\"input_ids\"][0], skip_special_tokens=True))\n",
    "        outputs = model.module.generate(\n",
    "            **i,\n",
    "            do_sample=False,\n",
    "            temperature=None,\n",
    "            top_p=None,\n",
    "            num_beams=1,\n",
    "        )\n",
    "        \n",
    "        length_input = i[\"input_ids\"].shape[1]\n",
    "        tokens = outputs[:, length_input:]\n",
    "        tokens = tokenizer.batch_decode(tokens, skip_special_tokens=True)\n",
    "        print(tokens[0])\n",
    "        print(\"---\"*30)"
   ]
  },
  {
   "cell_type": "code",
   "execution_count": 24,
   "metadata": {},
   "outputs": [],
   "source": [
    "results = [\n",
    "    \"results/prompt-tuning-baseline-full\",\n",
    "    \"results/prompt-tuning-from_gnd\",\n",
    "    \"results/pt-from_gnd_w_alt\",\n",
    "]\n",
    "\n",
    "dfs = []\n",
    "analysis = {\n",
    "}\n",
    "for result in results:\n",
    "    files = os.listdir(result)\n",
    "    for file in files:\n",
    "        if file.endswith(\".csv\"):\n",
    "            data_path = os.path.join(result, file)\n",
    "            df = pd.read_csv(data_path)\n",
    "            df[\"predictions\"] = df[\"predictions\"].apply(literal_eval)\n",
    "            df[\"label-ids\"] = df[\"label-ids\"].apply(literal_eval)\n",
    "            analysis[\"gold-labels\"] = df[\"label-ids\"]\n",
    "            exp_name = os.path.basename(result)\n",
    "            analysis[f\"{exp_name}-predictions\"] = df[\"predictions\"]\n",
    "            analysis[\"title\"] = df[\"title\"]\n",
    "            "
   ]
  },
  {
   "cell_type": "code",
   "execution_count": 34,
   "metadata": {},
   "outputs": [],
   "source": [
    "analysis_df = pd.DataFrame.from_dict(analysis)\n",
    "\n",
    "# Union of all predictions\n",
    "analysis_df[\"union-predictions\"] = analysis_df.apply(\n",
    "    lambda row: set(idn for column in analysis_df.columns for idn in row[column] if column != \"title\"),\n",
    "    axis=1\n",
    ")"
   ]
  },
  {
   "cell_type": "code",
   "execution_count": 35,
   "metadata": {},
   "outputs": [],
   "source": [
    "analysis_df[\"overall-num\"] = analysis_df[\"union-predictions\"].apply(lambda x: len(x))\n",
    "sorted_df = analysis_df.sort_values(by=\"overall-num\", ascending=False)"
   ]
  },
  {
   "cell_type": "code",
   "execution_count": 36,
   "metadata": {},
   "outputs": [
    {
     "data": {
      "text/html": [
       "<div>\n",
       "<style scoped>\n",
       "    .dataframe tbody tr th:only-of-type {\n",
       "        vertical-align: middle;\n",
       "    }\n",
       "\n",
       "    .dataframe tbody tr th {\n",
       "        vertical-align: top;\n",
       "    }\n",
       "\n",
       "    .dataframe thead th {\n",
       "        text-align: right;\n",
       "    }\n",
       "</style>\n",
       "<table border=\"1\" class=\"dataframe\">\n",
       "  <thead>\n",
       "    <tr style=\"text-align: right;\">\n",
       "      <th></th>\n",
       "      <th>gold-labels</th>\n",
       "      <th>prompt-tuning-baseline-full-predictions</th>\n",
       "      <th>title</th>\n",
       "      <th>prompt-tuning-from_gnd-predictions</th>\n",
       "      <th>pt-from_gnd_w_alt-predictions</th>\n",
       "      <th>union-predictions</th>\n",
       "      <th>overall-num</th>\n",
       "    </tr>\n",
       "  </thead>\n",
       "  <tbody>\n",
       "    <tr>\n",
       "      <th>2266</th>\n",
       "      <td>[040036146, 040036774, 040152170, 040152723, 0...</td>\n",
       "      <td>[040775879, 944275982]</td>\n",
       "      <td>Vergangene Vertrautheit Soziale Gedächtnisse ...</td>\n",
       "      <td>[042007933, 040139603, 957627521]</td>\n",
       "      <td>[042895189, 040775704]</td>\n",
       "      <td>{042525799, 040778142, 040775704, 042518717, 0...</td>\n",
       "      <td>23</td>\n",
       "    </tr>\n",
       "    <tr>\n",
       "      <th>2960</th>\n",
       "      <td>[004691792, 040267768, 040465748, 040511766, 0...</td>\n",
       "      <td>[040775755, 040139603, 118749404, 040511766, 0...</td>\n",
       "      <td>Katholische Arbeiter im Mutterland der Reforma...</td>\n",
       "      <td>[040511766, 040475387, 004691792, 041207300, 0...</td>\n",
       "      <td>[040475387, 040511766, 040300277, 041207300, 0...</td>\n",
       "      <td>{041142047, 004691792, 041402928, 040465748, 0...</td>\n",
       "      <td>22</td>\n",
       "    </tr>\n",
       "    <tr>\n",
       "      <th>7130</th>\n",
       "      <td>[040163199, 040169162, 040175553, 04060568X, 0...</td>\n",
       "      <td>[040351653, 040322319, 956910688, 040063402, 0...</td>\n",
       "      <td>Konzeptionierung und Auslegung eines Vorderach...</td>\n",
       "      <td>[041263928, 040168999, 95852923X, 040760014, 0...</td>\n",
       "      <td>[040351653, 04139402X, 948677694, 040168999, 0...</td>\n",
       "      <td>{960526005, 040063402, 041263928, 040169162, 9...</td>\n",
       "      <td>22</td>\n",
       "    </tr>\n",
       "    <tr>\n",
       "      <th>2142</th>\n",
       "      <td>[040142388, 040316483, 040550729, 040760014, 0...</td>\n",
       "      <td>[040737578, 946945187, 04318037X]</td>\n",
       "      <td>Verlustmechanismen in einem halbhermetischen P...</td>\n",
       "      <td>[040383903, 040663876, 1014172047, 041277988, ...</td>\n",
       "      <td>[042090377, 041878795, 043080588, 041396294, 0...</td>\n",
       "      <td>{040737578, 957807074, 946945187, 94910938X, 0...</td>\n",
       "      <td>22</td>\n",
       "    </tr>\n",
       "    <tr>\n",
       "      <th>3891</th>\n",
       "      <td>[040063496, 040316300, 040476863, 04060294X, 0...</td>\n",
       "      <td>[04040949X, 040402355, 040623866, 042908027, 9...</td>\n",
       "      <td>Je dunkler die Nacht, desto heller die Sterne ...</td>\n",
       "      <td>[040703347, 040152723, 041583132, 040039005, 9...</td>\n",
       "      <td>[042908027, 040602907, 043283349, 040623866, 0...</td>\n",
       "      <td>{041893999, 040063496, 040348695, 042908027, 0...</td>\n",
       "      <td>21</td>\n",
       "    </tr>\n",
       "    <tr>\n",
       "      <th>5553</th>\n",
       "      <td>[040409368, 040729052, 041209575, 041417666, 0...</td>\n",
       "      <td>[040715612, 041451430, 042852218, 040386392]</td>\n",
       "      <td>Beiträge zur KI-basierten Erkennung menschlic...</td>\n",
       "      <td>[041289870, 041209575, 040063119, 040334473]</td>\n",
       "      <td>[040521540, 041451317, 043204864, 041571673]</td>\n",
       "      <td>{041970322, 040409368, 043144403, 041451317, 0...</td>\n",
       "      <td>21</td>\n",
       "    </tr>\n",
       "    <tr>\n",
       "      <th>7257</th>\n",
       "      <td>[001173464, 001213571, 004815262, 004816730, 0...</td>\n",
       "      <td>[040488217, 040457915, 04059758X, 118749404, 0...</td>\n",
       "      <td>Späthumanismus und reformierte Konfession The...</td>\n",
       "      <td>[04059758X, 040386392, 040457915, 040239969, 0...</td>\n",
       "      <td>[040261409, 041772342, 04059758X, 040488217, 0...</td>\n",
       "      <td>{041363434, 001213571, 004816730, 041649486, 0...</td>\n",
       "      <td>21</td>\n",
       "    </tr>\n",
       "    <tr>\n",
       "      <th>7427</th>\n",
       "      <td>[040312178, 040441962, 040626563, 040642119, 0...</td>\n",
       "      <td>[1041356269, 041281306, 041864700]</td>\n",
       "      <td>Experimenteller Beitrag zur Thermodynamik im F...</td>\n",
       "      <td>[040580768, 041281306, 041273478, 04148259X, 0...</td>\n",
       "      <td>[043161324, 041246268, 040641767]</td>\n",
       "      <td>{040642119, 041281306, 041243005, 04148259X, 0...</td>\n",
       "      <td>21</td>\n",
       "    </tr>\n",
       "    <tr>\n",
       "      <th>4791</th>\n",
       "      <td>[040382435, 040418626, 040457915, 040492508, 0...</td>\n",
       "      <td>[041361482, 04010074X, 1007668032, 040687546, ...</td>\n",
       "      <td>Katharsis in Kaiserzeit und Spätantike Vorste...</td>\n",
       "      <td>[041401972]</td>\n",
       "      <td>[041779665, 1067343555, 952942186, 041361482, ...</td>\n",
       "      <td>{118595164, 040463036, 041361482, 040457915, 1...</td>\n",
       "      <td>21</td>\n",
       "    </tr>\n",
       "    <tr>\n",
       "      <th>4625</th>\n",
       "      <td>[040322726, 040348377, 04046170X, 040646890, 0...</td>\n",
       "      <td>[041513800, 041904966, 041833678, 041328256]</td>\n",
       "      <td>Einfluss von Wasser in Getriebeölen auf die Z...</td>\n",
       "      <td>[042090377, 041528786, 040673332, 041209974, 9...</td>\n",
       "      <td>[041513800, 041563077, 040529223, 041833678]</td>\n",
       "      <td>{040529223, 041308263, 04046170X, 040646890, 0...</td>\n",
       "      <td>20</td>\n",
       "    </tr>\n",
       "    <tr>\n",
       "      <th>7233</th>\n",
       "      <td>[040118827, 040158330, 040303187, 040493865, 0...</td>\n",
       "      <td>[040787044, 041649583, 041132920, 040487377, 0...</td>\n",
       "      <td>Religiöse Sprache und Atomkraft Strategien de...</td>\n",
       "      <td>[040475387, 040493962, 040147150, 040205886, 0...</td>\n",
       "      <td>[040118827, 040558797, 040558967, 042364337]</td>\n",
       "      <td>{041649583, 040558967, 041155890, 040465144, 0...</td>\n",
       "      <td>20</td>\n",
       "    </tr>\n",
       "    <tr>\n",
       "      <th>8037</th>\n",
       "      <td>[040124754, 040156028, 040266567, 040471500, 0...</td>\n",
       "      <td>[040775879, 041132920, 1206347392, 964162512, ...</td>\n",
       "      <td>News und Fake News zum Thema Impfen Theorie un...</td>\n",
       "      <td>[1206347392, 967941407, 041132920, 041819047, ...</td>\n",
       "      <td>[042520932, 040266567, 042039908, 1243016361, ...</td>\n",
       "      <td>{956012027, 967941407, 1243016361, 042520932, ...</td>\n",
       "      <td>20</td>\n",
       "    </tr>\n",
       "    <tr>\n",
       "      <th>5644</th>\n",
       "      <td>[040402223, 040665593, 041143825, 041207440, 0...</td>\n",
       "      <td>[944275982, 040465950, 041237617, 041514343, 0...</td>\n",
       "      <td>Moral und Staatlichkeit Fallgeschichten von Mi...</td>\n",
       "      <td>[040118827, 040775755, 04135253X, 040037258]</td>\n",
       "      <td>[041422929, 041875028, 040118827, 04043169X, 0...</td>\n",
       "      <td>{041422929, 040465950, 041432614, 041237617, 0...</td>\n",
       "      <td>20</td>\n",
       "    </tr>\n",
       "    <tr>\n",
       "      <th>7184</th>\n",
       "      <td>[040166082, 040297489, 040337006, 040339718, 0...</td>\n",
       "      <td>[954353331, 041339223, 040168999, 041337646]</td>\n",
       "      <td>Beitrag zur Reduzierung der Fehlerhäufigkeit ...</td>\n",
       "      <td>[942373596, 041264576, 04325683X, 040168999]</td>\n",
       "      <td>[040039579, 043055443, 040339718, 040168999, 0...</td>\n",
       "      <td>{041243293, 040297489, 043055443, 040676897, 0...</td>\n",
       "      <td>20</td>\n",
       "    </tr>\n",
       "    <tr>\n",
       "      <th>5994</th>\n",
       "      <td>[040208079, 040383903, 041302702, 041798139, 0...</td>\n",
       "      <td>[041381424, 042090377, 041798600, 041896254]</td>\n",
       "      <td>Einsatz von Druckkämmen zur Effizienzsteigeru...</td>\n",
       "      <td>[041635388, 040130835, 040340767, 040208079]</td>\n",
       "      <td>[041760743, 04148259X, 042090377, 040608476, 0...</td>\n",
       "      <td>{959038949, 949849634, 041381424, 041896254, 0...</td>\n",
       "      <td>20</td>\n",
       "    </tr>\n",
       "    <tr>\n",
       "      <th>5452</th>\n",
       "      <td>[040025675, 040118894, 040163970, 040182029, 0...</td>\n",
       "      <td>[040475387, 040118827, 040714284, 042364337]</td>\n",
       "      <td>Bundesdeutscher Protestantismus und Geschlecht...</td>\n",
       "      <td>[040475387, 007239882]</td>\n",
       "      <td>[040118894, 040307026, 041307305, 041750470]</td>\n",
       "      <td>{007239882, 041164857, 042364337, 040118894, 0...</td>\n",
       "      <td>20</td>\n",
       "    </tr>\n",
       "    <tr>\n",
       "      <th>3955</th>\n",
       "      <td>[040063186, 040152499, 040383903, 040386627, 0...</td>\n",
       "      <td>[040315754, 973163119, 040697940]</td>\n",
       "      <td>Ein Ansatz zur CAD-integrierten muskuloskelett...</td>\n",
       "      <td>[040697940, 043078656, 040377903, 04289784X, 0...</td>\n",
       "      <td>[040063119, 04148259X, 040329623, 040315754, 0...</td>\n",
       "      <td>{040697940, 040152499, 041229177, 040377903, 0...</td>\n",
       "      <td>20</td>\n",
       "    </tr>\n",
       "    <tr>\n",
       "      <th>4411</th>\n",
       "      <td>[040136566, 040145166, 040237443, 040608107, 0...</td>\n",
       "      <td>[040205479, 040163970, 04040949X, 040013073, 0...</td>\n",
       "      <td>Gemeinsam Haushalten Arbeitsteilung und Prakti...</td>\n",
       "      <td>[976362686, 040205479, 04040949X, 040557839, 0...</td>\n",
       "      <td>[040163970, 040118827, 040717763, 043008690, 0...</td>\n",
       "      <td>{040237443, 040608107, 040136566, 041164857, 0...</td>\n",
       "      <td>20</td>\n",
       "    </tr>\n",
       "    <tr>\n",
       "      <th>5302</th>\n",
       "      <td>[040645169, 041249283, 041410408, 041543564, 0...</td>\n",
       "      <td>[041892224, 041591534, 043102026, 040645169]</td>\n",
       "      <td>Aufbereitung von Harnstoff-Wasser-Lösung für...</td>\n",
       "      <td>[040299198, 04138914X, 041591534, 95852923X, 0...</td>\n",
       "      <td>[041591534, 04275223X, 041890523, 041338979]</td>\n",
       "      <td>{041892224, 04138914X, 041543564, 040646890, 0...</td>\n",
       "      <td>20</td>\n",
       "    </tr>\n",
       "    <tr>\n",
       "      <th>645</th>\n",
       "      <td>[040414086, 040414213, 040607194, 040709140, 0...</td>\n",
       "      <td>[040493962, 040457915, 04059758X, 041256980, 0...</td>\n",
       "      <td>Der Griff nach dem Absoluten The aspiring for ...</td>\n",
       "      <td>[040334228, 041338448]</td>\n",
       "      <td>[040494152, 042999820, 040756602, 040300056]</td>\n",
       "      <td>{040414086, 040457915, 040300056, 118559796, 0...</td>\n",
       "      <td>20</td>\n",
       "    </tr>\n",
       "  </tbody>\n",
       "</table>\n",
       "</div>"
      ],
      "text/plain": [
       "                                            gold-labels  \\\n",
       "2266  [040036146, 040036774, 040152170, 040152723, 0...   \n",
       "2960  [004691792, 040267768, 040465748, 040511766, 0...   \n",
       "7130  [040163199, 040169162, 040175553, 04060568X, 0...   \n",
       "2142  [040142388, 040316483, 040550729, 040760014, 0...   \n",
       "3891  [040063496, 040316300, 040476863, 04060294X, 0...   \n",
       "5553  [040409368, 040729052, 041209575, 041417666, 0...   \n",
       "7257  [001173464, 001213571, 004815262, 004816730, 0...   \n",
       "7427  [040312178, 040441962, 040626563, 040642119, 0...   \n",
       "4791  [040382435, 040418626, 040457915, 040492508, 0...   \n",
       "4625  [040322726, 040348377, 04046170X, 040646890, 0...   \n",
       "7233  [040118827, 040158330, 040303187, 040493865, 0...   \n",
       "8037  [040124754, 040156028, 040266567, 040471500, 0...   \n",
       "5644  [040402223, 040665593, 041143825, 041207440, 0...   \n",
       "7184  [040166082, 040297489, 040337006, 040339718, 0...   \n",
       "5994  [040208079, 040383903, 041302702, 041798139, 0...   \n",
       "5452  [040025675, 040118894, 040163970, 040182029, 0...   \n",
       "3955  [040063186, 040152499, 040383903, 040386627, 0...   \n",
       "4411  [040136566, 040145166, 040237443, 040608107, 0...   \n",
       "5302  [040645169, 041249283, 041410408, 041543564, 0...   \n",
       "645   [040414086, 040414213, 040607194, 040709140, 0...   \n",
       "\n",
       "                prompt-tuning-baseline-full-predictions  \\\n",
       "2266                             [040775879, 944275982]   \n",
       "2960  [040775755, 040139603, 118749404, 040511766, 0...   \n",
       "7130  [040351653, 040322319, 956910688, 040063402, 0...   \n",
       "2142                  [040737578, 946945187, 04318037X]   \n",
       "3891  [04040949X, 040402355, 040623866, 042908027, 9...   \n",
       "5553       [040715612, 041451430, 042852218, 040386392]   \n",
       "7257  [040488217, 040457915, 04059758X, 118749404, 0...   \n",
       "7427                 [1041356269, 041281306, 041864700]   \n",
       "4791  [041361482, 04010074X, 1007668032, 040687546, ...   \n",
       "4625       [041513800, 041904966, 041833678, 041328256]   \n",
       "7233  [040787044, 041649583, 041132920, 040487377, 0...   \n",
       "8037  [040775879, 041132920, 1206347392, 964162512, ...   \n",
       "5644  [944275982, 040465950, 041237617, 041514343, 0...   \n",
       "7184       [954353331, 041339223, 040168999, 041337646]   \n",
       "5994       [041381424, 042090377, 041798600, 041896254]   \n",
       "5452       [040475387, 040118827, 040714284, 042364337]   \n",
       "3955                  [040315754, 973163119, 040697940]   \n",
       "4411  [040205479, 040163970, 04040949X, 040013073, 0...   \n",
       "5302       [041892224, 041591534, 043102026, 040645169]   \n",
       "645   [040493962, 040457915, 04059758X, 041256980, 0...   \n",
       "\n",
       "                                                  title  \\\n",
       "2266  Vergangene Vertrautheit Soziale Gedächtnisse ...   \n",
       "2960  Katholische Arbeiter im Mutterland der Reforma...   \n",
       "7130  Konzeptionierung und Auslegung eines Vorderach...   \n",
       "2142  Verlustmechanismen in einem halbhermetischen P...   \n",
       "3891  Je dunkler die Nacht, desto heller die Sterne ...   \n",
       "5553  Beiträge zur KI-basierten Erkennung menschlic...   \n",
       "7257  Späthumanismus und reformierte Konfession The...   \n",
       "7427  Experimenteller Beitrag zur Thermodynamik im F...   \n",
       "4791  Katharsis in Kaiserzeit und Spätantike Vorste...   \n",
       "4625  Einfluss von Wasser in Getriebeölen auf die Z...   \n",
       "7233  Religiöse Sprache und Atomkraft Strategien de...   \n",
       "8037  News und Fake News zum Thema Impfen Theorie un...   \n",
       "5644  Moral und Staatlichkeit Fallgeschichten von Mi...   \n",
       "7184  Beitrag zur Reduzierung der Fehlerhäufigkeit ...   \n",
       "5994  Einsatz von Druckkämmen zur Effizienzsteigeru...   \n",
       "5452  Bundesdeutscher Protestantismus und Geschlecht...   \n",
       "3955  Ein Ansatz zur CAD-integrierten muskuloskelett...   \n",
       "4411  Gemeinsam Haushalten Arbeitsteilung und Prakti...   \n",
       "5302  Aufbereitung von Harnstoff-Wasser-Lösung für...   \n",
       "645   Der Griff nach dem Absoluten The aspiring for ...   \n",
       "\n",
       "                     prompt-tuning-from_gnd-predictions  \\\n",
       "2266                  [042007933, 040139603, 957627521]   \n",
       "2960  [040511766, 040475387, 004691792, 041207300, 0...   \n",
       "7130  [041263928, 040168999, 95852923X, 040760014, 0...   \n",
       "2142  [040383903, 040663876, 1014172047, 041277988, ...   \n",
       "3891  [040703347, 040152723, 041583132, 040039005, 9...   \n",
       "5553       [041289870, 041209575, 040063119, 040334473]   \n",
       "7257  [04059758X, 040386392, 040457915, 040239969, 0...   \n",
       "7427  [040580768, 041281306, 041273478, 04148259X, 0...   \n",
       "4791                                        [041401972]   \n",
       "4625  [042090377, 041528786, 040673332, 041209974, 9...   \n",
       "7233  [040475387, 040493962, 040147150, 040205886, 0...   \n",
       "8037  [1206347392, 967941407, 041132920, 041819047, ...   \n",
       "5644       [040118827, 040775755, 04135253X, 040037258]   \n",
       "7184       [942373596, 041264576, 04325683X, 040168999]   \n",
       "5994       [041635388, 040130835, 040340767, 040208079]   \n",
       "5452                             [040475387, 007239882]   \n",
       "3955  [040697940, 043078656, 040377903, 04289784X, 0...   \n",
       "4411  [976362686, 040205479, 04040949X, 040557839, 0...   \n",
       "5302  [040299198, 04138914X, 041591534, 95852923X, 0...   \n",
       "645                              [040334228, 041338448]   \n",
       "\n",
       "                          pt-from_gnd_w_alt-predictions  \\\n",
       "2266                             [042895189, 040775704]   \n",
       "2960  [040475387, 040511766, 040300277, 041207300, 0...   \n",
       "7130  [040351653, 04139402X, 948677694, 040168999, 0...   \n",
       "2142  [042090377, 041878795, 043080588, 041396294, 0...   \n",
       "3891  [042908027, 040602907, 043283349, 040623866, 0...   \n",
       "5553       [040521540, 041451317, 043204864, 041571673]   \n",
       "7257  [040261409, 041772342, 04059758X, 040488217, 0...   \n",
       "7427                  [043161324, 041246268, 040641767]   \n",
       "4791  [041779665, 1067343555, 952942186, 041361482, ...   \n",
       "4625       [041513800, 041563077, 040529223, 041833678]   \n",
       "7233       [040118827, 040558797, 040558967, 042364337]   \n",
       "8037  [042520932, 040266567, 042039908, 1243016361, ...   \n",
       "5644  [041422929, 041875028, 040118827, 04043169X, 0...   \n",
       "7184  [040039579, 043055443, 040339718, 040168999, 0...   \n",
       "5994  [041760743, 04148259X, 042090377, 040608476, 0...   \n",
       "5452       [040118894, 040307026, 041307305, 041750470]   \n",
       "3955  [040063119, 04148259X, 040329623, 040315754, 0...   \n",
       "4411  [040163970, 040118827, 040717763, 043008690, 0...   \n",
       "5302       [041591534, 04275223X, 041890523, 041338979]   \n",
       "645        [040494152, 042999820, 040756602, 040300056]   \n",
       "\n",
       "                                      union-predictions  overall-num  \n",
       "2266  {042525799, 040778142, 040775704, 042518717, 0...           23  \n",
       "2960  {041142047, 004691792, 041402928, 040465748, 0...           22  \n",
       "7130  {960526005, 040063402, 041263928, 040169162, 9...           22  \n",
       "2142  {040737578, 957807074, 946945187, 94910938X, 0...           22  \n",
       "3891  {041893999, 040063496, 040348695, 042908027, 0...           21  \n",
       "5553  {041970322, 040409368, 043144403, 041451317, 0...           21  \n",
       "7257  {041363434, 001213571, 004816730, 041649486, 0...           21  \n",
       "7427  {040642119, 041281306, 041243005, 04148259X, 0...           21  \n",
       "4791  {118595164, 040463036, 041361482, 040457915, 1...           21  \n",
       "4625  {040529223, 041308263, 04046170X, 040646890, 0...           20  \n",
       "7233  {041649583, 040558967, 041155890, 040465144, 0...           20  \n",
       "8037  {956012027, 967941407, 1243016361, 042520932, ...           20  \n",
       "5644  {041422929, 040465950, 041432614, 041237617, 0...           20  \n",
       "7184  {041243293, 040297489, 043055443, 040676897, 0...           20  \n",
       "5994  {959038949, 949849634, 041381424, 041896254, 0...           20  \n",
       "5452  {007239882, 041164857, 042364337, 040118894, 0...           20  \n",
       "3955  {040697940, 040152499, 041229177, 040377903, 0...           20  \n",
       "4411  {040237443, 040608107, 040136566, 041164857, 0...           20  \n",
       "5302  {041892224, 04138914X, 041543564, 040646890, 0...           20  \n",
       "645   {040414086, 040457915, 040300056, 118559796, 0...           20  "
      ]
     },
     "execution_count": 36,
     "metadata": {},
     "output_type": "execute_result"
    }
   ],
   "source": [
    "sorted_df.head(20)"
   ]
  },
  {
   "cell_type": "code",
   "execution_count": 3,
   "metadata": {},
   "outputs": [
    {
     "name": "stdout",
     "output_type": "stream",
     "text": [
      "Recall: 37.69 ± 0.22\n",
      "Precision: 45.88 ± 0.26\n",
      "F1: 39.04 ± 0.20\n",
      "Weighted precision: 50.72 ± 0.27\n"
     ]
    }
   ],
   "source": [
    "result_path = \"results/prompt-tuning-baseline-full\"\n",
    "files = os.listdir(result_path)\n",
    "all_metrics = {\n",
    "    \"recall\": [],\n",
    "    \"precision\": [],\n",
    "    \"f1\": [],\n",
    "    \"weighted_precision\": [],\n",
    "}\n",
    "for f in files:\n",
    "    path = os.path.join(result_path, f)\n",
    "    if not f.endswith(\".yaml\"):\n",
    "        continue\n",
    "    with open(path, \"r\") as file:\n",
    "        metrics = yaml.safe_load(file)\n",
    "    for key in all_metrics:\n",
    "        if key in metrics:\n",
    "            all_metrics[key].append(100*metrics[key])\n",
    "\n",
    "\n",
    "print(\"Recall: {:.2f} ± {:.2f}\".format(mean(all_metrics[\"recall\"]), stdev(all_metrics[\"recall\"])))\n",
    "print(\"Precision: {:.2f} ± {:.2f}\".format(mean(all_metrics[\"precision\"]), stdev(all_metrics[\"precision\"])))\n",
    "print(\"F1: {:.2f} ± {:.2f}\".format(mean(all_metrics[\"f1\"]), stdev(all_metrics[\"f1\"])))\n",
    "print(\"Weighted precision: {:.2f} ± {:.2f}\".format(mean(all_metrics[\"weighted_precision\"]), stdev(all_metrics[\"weighted_precision\"])))\n",
    "\n"
   ]
  },
  {
   "cell_type": "code",
   "execution_count": 3,
   "metadata": {},
   "outputs": [],
   "source": [
    "device = torch.device(\"cuda\" if torch.cuda.is_available() else \"cpu\")"
   ]
  },
  {
   "cell_type": "code",
   "execution_count": 4,
   "metadata": {},
   "outputs": [
    {
     "name": "stdout",
     "output_type": "stream",
     "text": [
      "['prompt_generator.prompt.weight', 'model.embed_tokens.weight']\n"
     ]
    },
    {
     "name": "stderr",
     "output_type": "stream",
     "text": [
      "Loading checkpoint shards: 100%|██████████| 2/2 [00:00<00:00,  2.18it/s]\n"
     ]
    },
    {
     "name": "stdout",
     "output_type": "stream",
     "text": [
      "Loading tensor model.embed_tokens.weight from checkpoint.\n",
      "Loading tensor model.prompt_generator.prompt.weight from checkpoint.\n"
     ]
    }
   ],
   "source": [
    "path = os.path.join(\"models_gnd/prompt-tuning-gnd-neighbor2label-nohidden/best_model/model.safetensors\")\n",
    "keys_to_load = config.get(\"load_pt_keys\", None)\n",
    "print(keys_to_load)\n",
    "\n",
    "model, tokenizer = load_model(path, config, device=device, load=keys_to_load)"
   ]
  },
  {
   "cell_type": "code",
   "execution_count": 7,
   "metadata": {},
   "outputs": [
    {
     "name": "stderr",
     "output_type": "stream",
     "text": [
      "model.safetensors:   0%|          | 0.00/1.60G [00:00<?, ?B/s]\n",
      "\u001b[A\n",
      "\n",
      "scheduler.pt: 100%|██████████| 1.40k/1.40k [00:00<00:00, 3.05kB/s]B/s]\n",
      "model.safetensors: 100%|██████████| 1.60G/1.60G [00:46<00:00, 34.6MB/s]\n",
      "\n",
      "optimizer.pt: 100%|██████████| 3.20G/3.20G [01:27<00:00, 36.6MB/s]\n",
      "\n",
      "Upload 3 LFS files: 100%|██████████| 3/3 [01:27<00:00, 29.27s/it]\n"
     ]
    },
    {
     "data": {
      "text/plain": [
       "CommitInfo(commit_url='https://huggingface.co/KatjaK/LLama-Prompt-Tuning-finetuned-from-Neighbor-and-Altnames2Label-GND/commit/63030b4737e41722061d29ba01148b62a6bf3cd4', commit_message='Upload folder using huggingface_hub', commit_description='', oid='63030b4737e41722061d29ba01148b62a6bf3cd4', pr_url=None, repo_url=RepoUrl('https://huggingface.co/KatjaK/LLama-Prompt-Tuning-finetuned-from-Neighbor-and-Altnames2Label-GND', endpoint='https://huggingface.co', repo_type='model', repo_id='KatjaK/LLama-Prompt-Tuning-finetuned-from-Neighbor-and-Altnames2Label-GND'), pr_revision=None, pr_num=None)"
      ]
     },
     "execution_count": 7,
     "metadata": {},
     "output_type": "execute_result"
    }
   ],
   "source": [
    "from huggingface_hub import HfApi\n",
    "api = HfApi()\n",
    "path = \"models_gnd/pt-from_gnd_w_alt/best_model/\"\n",
    "repo = \"KatjaK/LLama-Prompt-Tuning-finetuned-from-Neighbor-and-Altnames2Label-GND\"\n",
    "# api.create_repo(\n",
    "#     repo_id=repo\n",
    "# )\n",
    "api.upload_folder(\n",
    "    folder_path=path,\n",
    "    repo_id=repo,\n",
    "    repo_type=\"model\",\n",
    ")"
   ]
  }
 ],
 "metadata": {
  "kernelspec": {
   "display_name": "ki-env",
   "language": "python",
   "name": "python3"
  },
  "language_info": {
   "codemirror_mode": {
    "name": "ipython",
    "version": 3
   },
   "file_extension": ".py",
   "mimetype": "text/x-python",
   "name": "python",
   "nbconvert_exporter": "python",
   "pygments_lexer": "ipython3",
   "version": "3.12.11"
  }
 },
 "nbformat": 4,
 "nbformat_minor": 2
}
