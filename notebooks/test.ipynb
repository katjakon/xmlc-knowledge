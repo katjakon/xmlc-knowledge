{
 "cells": [
  {
   "cell_type": "code",
   "execution_count": 163,
   "metadata": {},
   "outputs": [],
   "source": [
    "from rdflib import Graph\n",
    "import rdflib\n",
    "from rdflib.extras.external_graph_libs import rdflib_to_networkx_digraph\n",
    "import networkx as nx\n",
    "import seaborn as sns\n",
    "import matplotlib\n",
    "import matplotlib.pyplot as plt"
   ]
  },
  {
   "cell_type": "code",
   "execution_count": 2,
   "metadata": {},
   "outputs": [
    {
     "data": {
      "text/plain": [
       "<Graph identifier=Nf2b1c382b09b41988e5f61e52d8a5d95 (<class 'rdflib.graph.Graph'>)>"
      ]
     },
     "execution_count": 2,
     "metadata": {},
     "output_type": "execute_result"
    }
   ],
   "source": [
    "g = Graph()\n",
    "g.parse(\"gnd.ttl\")"
   ]
  },
  {
   "cell_type": "code",
   "execution_count": 3,
   "metadata": {},
   "outputs": [],
   "source": [
    "dg = rdflib_to_networkx_digraph(g)"
   ]
  },
  {
   "cell_type": "code",
   "execution_count": null,
   "metadata": {},
   "outputs": [],
   "source": [
    "skos_concept = rdflib.term.URIRef('http://www.w3.org/2004/02/skos/core#Concept')\n",
    "dg.remove_node(skos_concept)\n",
    "\n",
    "\n",
    "alt = rdflib.term.URIRef('http://www.w3.org/2004/02/skos/core#altLabel')\n",
    "pref = rdflib.term.URIRef(\"http://www.w3.org/2004/02/skos/core#prefLabel\")\n",
    "hidden = rdflib.term.URIRef(\"http://www.w3.org/2004/02/skos/core#hiddenLabel\")\n",
    "\n",
    "delete = []\n",
    "for (head, tail), value in dg.edges.items():\n",
    "    triple = value[\"triples\"][0]\n",
    "    relation_type = triple[1]\n",
    "\n",
    "    if relation_type == alt:\n",
    "        if \"alt\" not in dg.nodes[head]:\n",
    "            dg.nodes[head][\"alt\"] = set()\n",
    "        dg.nodes[head][\"alt\"].add(str(tail))\n",
    "        delete.append(tail)\n",
    "    if relation_type == pref:\n",
    "        if \"pref\" not in dg.nodes[head]:\n",
    "            dg.nodes[head][\"pref\"] = set()\n",
    "        dg.nodes[head][\"pref\"].add(str(tail))\n",
    "        delete.append(tail)\n",
    "    if relation_type == hidden:\n",
    "        if \"hidden\" not in dg.nodes[head]:\n",
    "            dg.nodes[head][\"hidden\"] = set()\n",
    "        dg.nodes[head][\"hidden\"].add(str(tail))\n",
    "        delete.append(tail)\n",
    "\n",
    "dg.remove_nodes_from(delete)"
   ]
  },
  {
   "cell_type": "code",
   "execution_count": 4,
   "metadata": {},
   "outputs": [
    {
     "data": {
      "text/plain": [
       "1143686"
      ]
     },
     "execution_count": 4,
     "metadata": {},
     "output_type": "execute_result"
    }
   ],
   "source": [
    "dg.number_of_edges(), dg.number_of_nodes(), nx.density(dg)"
   ]
  },
  {
   "cell_type": "code",
   "execution_count": 70,
   "metadata": {},
   "outputs": [],
   "source": [
    "hist = nx.degree_histogram(dg)"
   ]
  },
  {
   "cell_type": "code",
   "execution_count": 63,
   "metadata": {},
   "outputs": [],
   "source": [
    "weak_conn = len(list(nx.weakly_connected_components(dg)))\n",
    "strong_conn = len(list(nx.strongly_connected_components(dg)))"
   ]
  },
  {
   "cell_type": "code",
   "execution_count": 64,
   "metadata": {},
   "outputs": [
    {
     "name": "stdout",
     "output_type": "stream",
     "text": [
      "27839 251775\n"
     ]
    }
   ],
   "source": [
    "print(weak_conn, strong_conn)"
   ]
  },
  {
   "cell_type": "code",
   "execution_count": 78,
   "metadata": {},
   "outputs": [],
   "source": [
    "weak_comp = nx.strongly_connected_components(dg)"
   ]
  },
  {
   "cell_type": "code",
   "execution_count": 98,
   "metadata": {},
   "outputs": [],
   "source": [
    "def get_edge_relation(node_i, node_j):\n",
    "    triples = dg[node_i][node_j][\"triples\"]\n",
    "    rel = triples[0][1]\n",
    "    return str(rel).split(\"#\")[-1]"
   ]
  },
  {
   "cell_type": "code",
   "execution_count": null,
   "metadata": {},
   "outputs": [],
   "source": [
    "dg.nodes"
   ]
  },
  {
   "cell_type": "code",
   "execution_count": 169,
   "metadata": {},
   "outputs": [
    {
     "name": "stdout",
     "output_type": "stream",
     "text": [
      "{'pref': {'Linguistik'}, 'alt': {'Allgemeine Linguistik', 'Allgemeine Sprachwissenschaft', 'Sprachwissenschaft', 'Sprachforschung'}}\n",
      "1 Hop: Relation related with 'Linguistische Informationswissenschaft'\n",
      "2 Hop: Relation related with 'Mathematische Linguistik'\n",
      "2 Hop: Relation related with 'Computerlinguistik'\n",
      "1 Hop: Relation broader with 'Linguistik'\n",
      "2 Hop: Relation broader with 'Philologie'\n"
     ]
    }
   ],
   "source": [
    "coli = rdflib.term.URIRef('http://d-nb.info/gnd/040358437')\n",
    "ml = rdflib.term.URIRef('http://d-nb.info/gnd/041937546')\n",
    "ling = rdflib.term.URIRef('http://d-nb.info/gnd/040742504')\n",
    "\n",
    "print(dg.nodes[ling])\n",
    "for n in nx.neighbors(dg, coli):\n",
    "    \n",
    "    rel_type = get_edge_relation(coli, n)\n",
    "    name = \" \".join(dg.nodes[n].get(\"pref\"))\n",
    "    print(f\"1 Hop: Relation {rel_type} with '{name}'\")\n",
    "\n",
    "\n",
    "    for m in nx.neighbors(dg, n):\n",
    "        rel_type = get_edge_relation(n, m)\n",
    "        name = \" \".join(dg.nodes[m].get(\"pref\"))\n",
    "        print(f\"2 Hop: Relation {rel_type} with '{name}'\")"
   ]
  },
  {
   "cell_type": "code",
   "execution_count": 180,
   "metadata": {},
   "outputs": [],
   "source": [
    "rel_counter = {}\n",
    "for head, tail in dg.edges():\n",
    "    rt = get_edge_relation(head, tail)\n",
    "    if rt not in rel_counter:\n",
    "        rel_counter[rt] = 0\n",
    "    rel_counter[rt] += 1\n",
    "    if rel_type == \"related\":\n",
    "        assert tail in dg[head]"
   ]
  },
  {
   "cell_type": "code",
   "execution_count": 178,
   "metadata": {},
   "outputs": [
    {
     "data": {
      "text/plain": [
       "(0.7321649252892933, 0.26783507471070667)"
      ]
     },
     "execution_count": 178,
     "metadata": {},
     "output_type": "execute_result"
    }
   ],
   "source": [
    "rel_counter[\"related\"] / dg.number_of_edges() , rel_counter[\"broader\"] / dg.number_of_edges()"
   ]
  },
  {
   "cell_type": "code",
   "execution_count": 183,
   "metadata": {},
   "outputs": [
    {
     "data": {
      "text/plain": [
       "(rdflib.term.URIRef('http://d-nb.info/gnd/040533093'), 4600)"
      ]
     },
     "execution_count": 183,
     "metadata": {},
     "output_type": "execute_result"
    }
   ],
   "source": []
  },
  {
   "cell_type": "code",
   "execution_count": 185,
   "metadata": {},
   "outputs": [
    {
     "name": "stdout",
     "output_type": "stream",
     "text": [
      "{'Kinder- und Hausmärchen'} 136\n",
      "{'Goethe, Johann Wolfgang von : Die Leiden des jungen Werthers'} 68\n",
      "{'Goethe, Johann Wolfgang von : Faust'} 54\n",
      "{'Mendelssohn Bartholdy, Felix (1809-1847)'} 47\n",
      "{'Schumann, Clara (1819-1896)'} 41\n",
      "{'Busch, Wilhelm : Max und Moritz'} 40\n",
      "{'Hänsel und Gretel'} 38\n",
      "{'Schneewittchen'} 38\n",
      "{'Einstein, Albert (1879-1955)'} 36\n",
      "{'Bülow, Hans von (1830-1894)'} 36\n"
     ]
    }
   ],
   "source": [
    "out_degree = dg.out_degree()\n",
    "sort_deg = sorted(out_degree, key=lambda x: x[1], reverse=True)\n",
    "for ent, count in sort_deg[:10]:\n",
    "    print(dg.nodes[ent].get(\"pref\"), count)"
   ]
  },
  {
   "cell_type": "code",
   "execution_count": 193,
   "metadata": {},
   "outputs": [
    {
     "name": "stdout",
     "output_type": "stream",
     "text": [
      "None\n",
      "None\n",
      "{'Das Wasser des Lebens'}\n",
      "None\n",
      "None\n",
      "None\n",
      "None\n",
      "{'Brüderchen und Schwesterchen'}\n",
      "None\n",
      "None\n",
      "{'Runge, Philipp Otto (1777-1810)'}\n",
      "None\n",
      "{'Dornröschen'}\n",
      "{'Hänsel und Gretel'}\n",
      "None\n",
      "{'Viehmann, Dorothea (1755-1815)'}\n",
      "None\n",
      "None\n",
      "{'Die kluge Else'}\n",
      "None\n",
      "None\n",
      "None\n",
      "None\n",
      "None\n",
      "None\n",
      "{'Volksliteratur'}\n",
      "None\n",
      "{'Gevatter Tod'}\n",
      "None\n",
      "{'Basile, Giambattista : Il Pentamerone'}\n",
      "None\n",
      "None\n",
      "None\n",
      "None\n",
      "None\n",
      "None\n",
      "None\n",
      "None\n",
      "{'Marienkind'}\n",
      "None\n",
      "None\n",
      "{'Die Bremer Stadtmusikanten'}\n",
      "None\n",
      "None\n",
      "{'Strohhalm, Kohle und Bohne'}\n",
      "{'Rapunzel'}\n",
      "{'Des Knaben Wunderhorn'}\n",
      "{'Die zwei Brüder'}\n",
      "{'Der gestiefelte Kater'}\n",
      "None\n",
      "{'Rotkäppchen'}\n",
      "None\n",
      "None\n",
      "None\n",
      "None\n",
      "None\n",
      "None\n",
      "None\n",
      "None\n",
      "{'Grimm, Wilhelm (1786-1859)'}\n",
      "{'Frau Holle (Märchen)'}\n",
      "None\n",
      "None\n",
      "None\n",
      "{'Die zwölf Brüder'}\n",
      "None\n",
      "None\n",
      "None\n",
      "None\n",
      "{'Brentano, Clemens (1778-1842)'}\n",
      "None\n",
      "None\n",
      "None\n",
      "None\n",
      "{'Von dem Machandelboom'}\n",
      "None\n",
      "None\n",
      "{'Die sieben Raben'}\n",
      "None\n",
      "None\n",
      "None\n",
      "{'Fundevogel'}\n",
      "None\n",
      "None\n",
      "None\n",
      "{'Von dem Fischer un syner Fru'}\n",
      "{'Bechstein, Ludwig : Deutsches Märchenbuch'}\n",
      "None\n",
      "None\n",
      "None\n",
      "{'Hans im Glück'}\n",
      "None\n",
      "None\n",
      "{'Die drei Schlangenblätter'}\n",
      "{'Aschenputtel (Märchen)'}\n",
      "None\n",
      "None\n",
      "{'Der goldene Vogel'}\n",
      "{'Grimm, Jacob (1785-1863)'}\n",
      "None\n",
      "{'Arnim, Achim von (1781-1831)'}\n",
      "{'König Drosselbart'}\n",
      "{'Schneewittchen'}\n",
      "None\n",
      "None\n",
      "None\n",
      "None\n",
      "None\n",
      "{'Das Mädchen ohne Hände'}\n",
      "None\n",
      "None\n",
      "None\n",
      "None\n",
      "None\n",
      "{'Von einem, der auszog, das Fürchten zu lernen'}\n",
      "{'Der Froschkönig'}\n",
      "None\n",
      "None\n",
      "None\n",
      "None\n",
      "None\n",
      "{'Die Gänsemagd'}\n",
      "None\n",
      "None\n",
      "None\n",
      "{'Brentano, Clemens : Gockel, Hinkel, Gakeleja'}\n",
      "None\n",
      "None\n",
      "{'Das tapfere Schneiderlein'}\n",
      "None\n",
      "{'Der Herr Gevatter'}\n",
      "None\n",
      "{'Das Waldhaus (Märchen)'}\n",
      "None\n",
      "{'Der Teufel mit den drei goldenen Haaren'}\n",
      "{'Hassenpflug, Marie (1788-1853)'}\n"
     ]
    }
   ],
   "source": [
    "t = dg[sort_deg[0][0]]\n",
    "for k in t:\n",
    "    pref = dg.nodes[k].get(\"pref\")\n",
    "    print(pref)"
   ]
  },
  {
   "cell_type": "code",
   "execution_count": 115,
   "metadata": {},
   "outputs": [],
   "source": [
    "out_no_nodes = list(sorted(out_degree, key=lambda x: x[1]))\n",
    "out_no_nodes = [n for n, i in out_no_nodes if i == 0]"
   ]
  },
  {
   "cell_type": "code",
   "execution_count": 118,
   "metadata": {},
   "outputs": [
    {
     "data": {
      "text/plain": [
       "93198"
      ]
     },
     "execution_count": 118,
     "metadata": {},
     "output_type": "execute_result"
    }
   ],
   "source": [
    "len(out_no_nodes)"
   ]
  },
  {
   "cell_type": "code",
   "execution_count": 182,
   "metadata": {},
   "outputs": [
    {
     "name": "stdout",
     "output_type": "stream",
     "text": [
      "{'Berlin'} 6043\n",
      "{'Schriftsteller'} 4600\n",
      "{'Deutschland'} 4508\n",
      "{'Maler'} 3760\n",
      "{'Motiv'} 3631\n",
      "{'Künstler'} 3259\n",
      "{'Wien'} 2959\n",
      "{'Bayern'} 2886\n",
      "{'München'} 2823\n",
      "{'Nordrhein-Westfalen'} 2668\n"
     ]
    }
   ],
   "source": [
    "in_degree = dg.in_degree()\n",
    "sort_deg = sorted(in_degree, key=lambda x: x[1], reverse=True)\n",
    "for ent, count in sort_deg[:10]:\n",
    "    print(dg.nodes[ent].get(\"pref\"), count)"
   ]
  },
  {
   "cell_type": "code",
   "execution_count": 120,
   "metadata": {},
   "outputs": [
    {
     "name": "stdout",
     "output_type": "stream",
     "text": [
      "146450\n"
     ]
    }
   ],
   "source": [
    "in_no_nodes = list(sorted(in_degree, key=lambda x: x[1]))\n",
    "in_no_nodes = [n for n, i in in_no_nodes if i == 0]\n",
    "print(len(in_no_nodes))"
   ]
  },
  {
   "cell_type": "code",
   "execution_count": 121,
   "metadata": {},
   "outputs": [],
   "source": [
    "in_no_nodes = set(in_no_nodes)\n",
    "out_no_nodes = set(out_no_nodes)\n",
    "\n",
    "intersect = in_no_nodes.intersection(out_no_nodes)"
   ]
  },
  {
   "cell_type": "code",
   "execution_count": 127,
   "metadata": {},
   "outputs": [
    {
     "name": "stdout",
     "output_type": "stream",
     "text": [
      "480654 268284\n"
     ]
    }
   ],
   "source": [
    "print(dg.number_of_edges(), dg.number_of_nodes())"
   ]
  },
  {
   "cell_type": "code",
   "execution_count": 125,
   "metadata": {},
   "outputs": [
    {
     "name": "stdout",
     "output_type": "stream",
     "text": [
      "http://d-nb.info/gnd/953421368\n",
      "{'Lauter'}\n",
      "http://d-nb.info/gnd/041703553\n",
      "{'Mohn'}\n",
      "http://d-nb.info/gnd/042526760\n",
      "{'Füllmenbacher Hofberg'}\n",
      "http://d-nb.info/gnd/118713213\n",
      "{'Joss, Anna (1882-1973)'}\n",
      "http://d-nb.info/gnd/042013712\n",
      "{'Turbulente Flüsse'}\n",
      "http://d-nb.info/gnd/129586919\n",
      "{'Doushe, Jigme'}\n",
      "http://d-nb.info/gnd/041812077\n",
      "{'Siebung (Mathematik)'}\n",
      "http://d-nb.info/gnd/1169328709\n",
      "{'Bizepssehnenreflex'}\n",
      "http://d-nb.info/gnd/041192389\n",
      "{'Zermatt (Region)'}\n",
      "http://d-nb.info/gnd/042384168\n",
      "{'Grasse (Region)'}\n",
      "http://d-nb.info/gnd/942489861\n",
      "{'Palladiumhalogenide'}\n",
      "http://d-nb.info/gnd/123188180\n",
      "{'Stechow, Arnim von (1941)'}\n",
      "http://d-nb.info/gnd/940066831\n",
      "{'Stochastische Ordnung'}\n",
      "http://d-nb.info/gnd/041623096\n",
      "{'Ionendichte'}\n",
      "http://d-nb.info/gnd/979638844\n",
      "{'Die Büchse der Pandora (Film)'}\n",
      "http://d-nb.info/gnd/94382298X\n",
      "{'Deckenpfronn'}\n",
      "http://d-nb.info/gnd/967630037\n",
      "{'Identifizierbarkeit'}\n",
      "http://d-nb.info/gnd/942374010\n",
      "{'Douz'}\n",
      "http://d-nb.info/gnd/949635782\n",
      "{'Sulfolipide'}\n",
      "http://d-nb.info/gnd/040425592\n",
      "{'USA / Nordoststaaten'}\n",
      "http://d-nb.info/gnd/041259645\n",
      "{'Karité-Pflanze'}\n",
      "http://d-nb.info/gnd/041653807\n",
      "{'Kostenerstattung'}\n",
      "http://d-nb.info/gnd/042037743\n",
      "{'Glaubensentwicklung'}\n",
      "http://d-nb.info/gnd/118816934\n",
      "{'Kirner, Ämilian (1836-1887)'}\n",
      "http://d-nb.info/gnd/945443196\n",
      "{'Indizierung (Informatik)'}\n",
      "http://d-nb.info/gnd/041176553\n",
      "{'Winhöring'}\n",
      "http://d-nb.info/gnd/040886794\n",
      "{'Burghöfe (Mertingen)'}\n",
      "http://d-nb.info/gnd/041350170\n",
      "{'Bratspiess'}\n",
      "http://d-nb.info/gnd/11272793X\n",
      "{'Wendnagel, Wera (1931)'}\n",
      "http://d-nb.info/gnd/041326024\n",
      "{'Kunstkopf'}\n",
      "http://d-nb.info/gnd/041794508\n",
      "{'Scheelit'}\n",
      "http://d-nb.info/gnd/940832062\n",
      "{'Bismutkomplexe'}\n",
      "http://d-nb.info/gnd/041933303\n",
      "{'Auslastung'}\n",
      "http://d-nb.info/gnd/118864289\n",
      "{'Joyce, Nora B. (1884-1951)'}\n",
      "http://d-nb.info/gnd/041237919\n",
      "{'Mongolische Rennmaus'}\n",
      "http://d-nb.info/gnd/960118691\n",
      "{'Leuna-Rössen'}\n",
      "http://d-nb.info/gnd/949603856\n",
      "{'Schauenstein'}\n",
      "http://d-nb.info/gnd/119328690\n",
      "{'Rotthoff, Fred (1924)'}\n",
      "http://d-nb.info/gnd/942526945\n",
      "{'Arsoniumsalze'}\n",
      "http://d-nb.info/gnd/041828720\n",
      "{'Stampfer'}\n",
      "http://d-nb.info/gnd/947339078\n",
      "{'Isar-Gebiet'}\n",
      "http://d-nb.info/gnd/118879111\n",
      "{'Spannau, Erich (1923)'}\n",
      "http://d-nb.info/gnd/119102498\n",
      "{'Kirkwood, Annie (1937)'}\n",
      "http://d-nb.info/gnd/123188040\n",
      "{'Arias Herranz, Eugénio (1910)'}\n",
      "http://d-nb.info/gnd/964729067\n",
      "{'Spider-Man (Film, 2002)'}\n",
      "http://d-nb.info/gnd/123638232\n",
      "{'Donaldson, Kim'}\n",
      "http://d-nb.info/gnd/1015796370\n",
      "{'Bendestorf'}\n",
      "http://d-nb.info/gnd/95618362X\n",
      "{'Gibberella pulicaris'}\n",
      "http://d-nb.info/gnd/042774195\n",
      "{'Propionibacterium freudenreichii'}\n",
      "http://d-nb.info/gnd/04172691X\n",
      "{'Akustooptischer Effekt'}\n",
      "http://d-nb.info/gnd/960210865\n",
      "{'Nassau-Diez'}\n",
      "http://d-nb.info/gnd/041619544\n",
      "{'Intelligenzniveau'}\n",
      "http://d-nb.info/gnd/04232145X\n",
      "{'Vinylether'}\n",
      "http://d-nb.info/gnd/985034610\n",
      "{'Reichenau an der Rax (Region)'}\n",
      "http://d-nb.info/gnd/041139062\n",
      "{'Heustrich'}\n",
      "http://d-nb.info/gnd/118653466\n",
      "{'Bates, Daisy (1859-1951)'}\n",
      "http://d-nb.info/gnd/04115469X\n",
      "{'Orofazialer Bereich'}\n",
      "http://d-nb.info/gnd/041891589\n",
      "{'Warzenkaktus'}\n",
      "http://d-nb.info/gnd/132905795\n",
      "{'Pointinger, Theresia (1846-1928)'}\n",
      "http://d-nb.info/gnd/041742052\n",
      "{'Phenothiazin'}\n",
      "http://d-nb.info/gnd/959727108\n",
      "{'Beleuchtungsrichtung'}\n",
      "http://d-nb.info/gnd/04189801X\n",
      "{'Widerlegung'}\n",
      "http://d-nb.info/gnd/040202550\n",
      "{'Geopotential'}\n",
      "http://d-nb.info/gnd/118834231\n",
      "{'Milow, Margarethe Elisabeth (1748-1794)'}\n",
      "http://d-nb.info/gnd/043181732\n",
      "{'Bunte Lanzennase'}\n",
      "http://d-nb.info/gnd/042192684\n",
      "{'Die Welle (Film)'}\n",
      "http://d-nb.info/gnd/041512502\n",
      "{'Eindeutigkeitssatz'}\n",
      "http://d-nb.info/gnd/043054897\n",
      "{'Wenzi (Werk)'}\n",
      "http://d-nb.info/gnd/041099885\n",
      "{'Kana'}\n",
      "http://d-nb.info/gnd/04142588X\n",
      "{'Anschauung Gottes'}\n",
      "http://d-nb.info/gnd/978736915\n",
      "{'Cerro Torre-Gebiet'}\n",
      "http://d-nb.info/gnd/959612262\n",
      "{'Bicyclooctadienderivate'}\n",
      "http://d-nb.info/gnd/04115892X\n",
      "{'Pinang'}\n",
      "http://d-nb.info/gnd/124680348\n",
      "{'Šukrullo (1921)'}\n",
      "http://d-nb.info/gnd/042833922\n",
      "{'Bilateria'}\n",
      "http://d-nb.info/gnd/118686054\n",
      "{'Fangio, Juan M. (1911-1995)'}\n",
      "http://d-nb.info/gnd/042377110\n",
      "{'any'}\n",
      "http://d-nb.info/gnd/043147402\n",
      "{'Diphosphate'}\n",
      "http://d-nb.info/gnd/041318684\n",
      "{'Nutzentheorie'}\n",
      "http://d-nb.info/gnd/941332470\n",
      "{'Gütersloh (Region)'}\n",
      "http://d-nb.info/gnd/965795624\n",
      "{'Raumlage'}\n",
      "http://d-nb.info/gnd/971803919\n",
      "{'Avrig'}\n",
      "http://d-nb.info/gnd/041322630\n",
      "{'Sühne'}\n",
      "http://d-nb.info/gnd/119325845\n",
      "{'Gullick, Steve (1967)'}\n",
      "http://d-nb.info/gnd/04260074X\n",
      "{'Beseitigung'}\n",
      "http://d-nb.info/gnd/042062268\n",
      "{'Achat'}\n",
      "http://d-nb.info/gnd/041340396\n",
      "{'Thuri'}\n",
      "http://d-nb.info/gnd/130456322\n",
      "{'Malinsky, Adolf Heinz (1939)'}\n",
      "http://d-nb.info/gnd/041065093\n",
      "{'Tiv'}\n",
      "http://d-nb.info/gnd/040399060\n",
      "{'Mönchengladbach (Region)'}\n",
      "http://d-nb.info/gnd/041470842\n",
      "{'Butyrolactone'}\n",
      "http://d-nb.info/gnd/118827022\n",
      "{'Green, Anne (1899-1979)'}\n",
      "http://d-nb.info/gnd/1063757630\n",
      "{'Biphenomycin B-Analoga'}\n",
      "http://d-nb.info/gnd/041233050\n",
      "{'Gotteserfahrung'}\n",
      "http://d-nb.info/gnd/041266994\n",
      "{'Stadtbredimus'}\n",
      "http://d-nb.info/gnd/041206606\n",
      "{'Lederwarenherstellung'}\n",
      "http://d-nb.info/gnd/121466078\n",
      "{'Déry, Károlyné (1863-1958)'}\n",
      "http://d-nb.info/gnd/119356961\n",
      "{'Sieben, Jupp (1914-1985)'}\n",
      "http://d-nb.info/gnd/042872448\n",
      "{'Mesophyll'}\n",
      "http://d-nb.info/gnd/95884691X\n",
      "{'Staphylom'}\n",
      "http://d-nb.info/gnd/120362147\n",
      "{'Lortie, Denis (1960)'}\n"
     ]
    }
   ],
   "source": [
    "c = 0\n",
    "for i in intersect:\n",
    "    if c > 100:\n",
    "        break\n",
    "    c += 1\n",
    "    print(i)\n",
    "    print(dg.nodes[i].get(\"pref\"))"
   ]
  },
  {
   "cell_type": "code",
   "execution_count": 68,
   "metadata": {},
   "outputs": [],
   "source": [
    "clustering = nx.average_clustering(dg)"
   ]
  },
  {
   "cell_type": "code",
   "execution_count": 69,
   "metadata": {},
   "outputs": [
    {
     "data": {
      "text/plain": [
       "0.028360939201672743"
      ]
     },
     "execution_count": 69,
     "metadata": {},
     "output_type": "execute_result"
    }
   ],
   "source": [
    "clustering"
   ]
  },
  {
   "cell_type": "code",
   "execution_count": 131,
   "metadata": {},
   "outputs": [
    {
     "name": "stdout",
     "output_type": "stream",
     "text": [
      "[(rdflib.term.URIRef('http://d-nb.info/gnd/119071401'), 4), (rdflib.term.URIRef('http://d-nb.info/gnd/115807381'), 3)]\n"
     ]
    }
   ],
   "source": [
    "out_degree = list(out_degree)\n",
    "print(out_degree[:2])"
   ]
  },
  {
   "cell_type": "code",
   "execution_count": 134,
   "metadata": {},
   "outputs": [
    {
     "name": "stdout",
     "output_type": "stream",
     "text": [
      "[4, 3, 5, 4, 5, 0, 6, 14, 1, 2]\n"
     ]
    }
   ],
   "source": [
    "counts = [c for n, c in out_degree]\n",
    "print(counts[:10])"
   ]
  },
  {
   "cell_type": "code",
   "execution_count": 137,
   "metadata": {},
   "outputs": [],
   "source": [
    "hist = nx.degree_histogram(dg)"
   ]
  },
  {
   "cell_type": "code",
   "execution_count": 152,
   "metadata": {},
   "outputs": [
    {
     "name": "stdout",
     "output_type": "stream",
     "text": [
      "[20824, 111022, 40334, 30147, 19687, 13334, 8549, 5733, 3973, 2835, 2030, 1596, 1147, 962, 738, 627, 521, 433, 340, 281, 246, 177, 190, 183, 141, 112, 116, 118, 76, 80, 71, 56, 54, 52, 50, 49, 45, 53, 54, 29, 45, 34, 30, 24, 22, 28, 28, 29, 19, 27, 28, 18, 19, 17, 13, 20, 18, 19, 12, 11, 11, 9, 12, 18, 7, 13, 10, 11, 12, 10, 6, 11, 11, 8, 5, 9, 6, 6, 10, 7, 10, 9, 6, 8, 10, 9, 5, 4, 6, 8, 6, 8, 4, 7, 2, 6, 4, 3, 5, 4]\n"
     ]
    }
   ],
   "source": [
    "print(hist[:100])"
   ]
  },
  {
   "cell_type": "code",
   "execution_count": 160,
   "metadata": {},
   "outputs": [],
   "source": [
    "cut_off = 10\n",
    "hist_cut = hist[:cut_off] + [sum(hist[cut_off:])]\n",
    "x_cut = list(range(len(hist)))[:cut_off] + [f\">={cut_off}\"]"
   ]
  },
  {
   "cell_type": "code",
   "execution_count": 164,
   "metadata": {},
   "outputs": [
    {
     "data": {
      "image/png": "[encoded data removed]",
      "text/plain": [
       "<Figure size 640x480 with 1 Axes>"
      ]
     },
     "metadata": {},
     "output_type": "display_data"
    }
   ],
   "source": [
    "ax = sns.barplot(\n",
    "    x = x_cut,\n",
    "    y = hist_cut\n",
    ")\n",
    "\n",
    "ax.set(ylabel='Count of nodes', xlabel='Node Degree')\n",
    "ax.get_yaxis().set_major_formatter(\n",
    "    matplotlib.ticker.FuncFormatter(lambda x, p: format(int(x), ',')))\n",
    "plt.show()"
   ]
  }
 ],
 "metadata": {
  "kernelspec": {
   "display_name": "thesis",
   "language": "python",
   "name": "python3"
  },
  "language_info": {
   "codemirror_mode": {
    "name": "ipython",
    "version": 3
   },
   "file_extension": ".py",
   "mimetype": "text/x-python",
   "name": "python",
   "nbconvert_exporter": "python",
   "pygments_lexer": "ipython3",
   "version": "3.12.7"
  },
  "orig_nbformat": 4
 },
 "nbformat": 4,
 "nbformat_minor": 2
}
