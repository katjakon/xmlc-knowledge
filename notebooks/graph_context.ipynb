{
 "cells": [
  {
   "cell_type": "code",
   "execution_count": 1,
   "metadata": {},
   "outputs": [
    {
     "name": "stderr",
     "output_type": "stream",
     "text": [
      "/home/katja/projects/xmlc-knowledge/ki-env/lib/python3.12/site-packages/tqdm/auto.py:21: TqdmWarning: IProgress not found. Please update jupyter and ipywidgets. See https://ipywidgets.readthedocs.io/en/stable/user_install.html\n",
      "  from .autonotebook import tqdm as notebook_tqdm\n"
     ]
    }
   ],
   "source": [
    "from gnd_dataset import GNDDataset\n",
    "import pickle\n",
    "import yaml\n",
    "from ast import literal_eval\n",
    "import torch\n",
    "from torch.nn import Embedding\n",
    "import transformers\n",
    "from transformers import  pipeline\n",
    "from retriever import Retriever\n",
    "from tqdm import tqdm\n",
    "from prompt_str import SYSTEM_PROMPT, CONTEXT_PROMPT\n",
    "from utils import process_output, map_labels, k_hop_neighbors, get_pref_label, get_relation_type, init_prompt_model\n",
    "import pandas as pd\n",
    "import matplotlib.pyplot as plt\n",
    "import networkx as nx\n",
    "transformers.logging.set_verbosity_error()\n",
    "from gnd_dataset import GNDDataset"
   ]
  },
  {
   "cell_type": "code",
   "execution_count": 2,
   "metadata": {},
   "outputs": [],
   "source": [
    "DEVICE = \"cuda\" if torch.cuda.is_available() else \"cpu\"\n",
    "data_dir = \"data/title\"\n",
    "\n",
    "gnd_graph = pickle.load(open(\"data/gnd.pickle\", \"rb\"))\n",
    "index = pickle.load(open(\"search_indices/ft_label_index.pkl\", \"rb\"))\n",
    "mapping = pickle.load(open(\"data/label_mapping.pkl\", \"rb\"))"
   ]
  },
  {
   "cell_type": "code",
   "execution_count": 3,
   "metadata": {},
   "outputs": [
    {
     "ename": "FileNotFoundError",
     "evalue": "[Errno 2] No such file or directory: 'config.yaml'",
     "output_type": "error",
     "traceback": [
      "\u001b[31m---------------------------------------------------------------------------\u001b[39m",
      "\u001b[31mFileNotFoundError\u001b[39m                         Traceback (most recent call last)",
      "\u001b[36mCell\u001b[39m\u001b[36m \u001b[39m\u001b[32mIn[3]\u001b[39m\u001b[32m, line 1\u001b[39m\n\u001b[32m----> \u001b[39m\u001b[32m1\u001b[39m \u001b[38;5;28;01mwith\u001b[39;00m \u001b[38;5;28;43mopen\u001b[39;49m\u001b[43m(\u001b[49m\u001b[33;43m\"\u001b[39;49m\u001b[33;43mconfig.yaml\u001b[39;49m\u001b[33;43m\"\u001b[39;49m\u001b[43m,\u001b[49m\u001b[43m \u001b[49m\u001b[33;43m\"\u001b[39;49m\u001b[33;43mr\u001b[39;49m\u001b[33;43m\"\u001b[39;49m\u001b[43m)\u001b[49m \u001b[38;5;28;01mas\u001b[39;00m f:\n\u001b[32m      2\u001b[39m     config = yaml.safe_load(f)\n\u001b[32m      4\u001b[39m retriever = Retriever(\n\u001b[32m      5\u001b[39m     retriever_model=config[\u001b[33m\"\u001b[39m\u001b[33msentence_transformer_model\u001b[39m\u001b[33m\"\u001b[39m],\n\u001b[32m      6\u001b[39m     device=DEVICE,\n\u001b[32m      7\u001b[39m )\n",
      "\u001b[36mFile \u001b[39m\u001b[32m~/projects/xmlc-knowledge/ki-env/lib/python3.12/site-packages/IPython/core/interactiveshell.py:327\u001b[39m, in \u001b[36m_modified_open\u001b[39m\u001b[34m(file, *args, **kwargs)\u001b[39m\n\u001b[32m    320\u001b[39m \u001b[38;5;28;01mif\u001b[39;00m file \u001b[38;5;129;01min\u001b[39;00m {\u001b[32m0\u001b[39m, \u001b[32m1\u001b[39m, \u001b[32m2\u001b[39m}:\n\u001b[32m    321\u001b[39m     \u001b[38;5;28;01mraise\u001b[39;00m \u001b[38;5;167;01mValueError\u001b[39;00m(\n\u001b[32m    322\u001b[39m         \u001b[33mf\u001b[39m\u001b[33m\"\u001b[39m\u001b[33mIPython won\u001b[39m\u001b[33m'\u001b[39m\u001b[33mt let you open fd=\u001b[39m\u001b[38;5;132;01m{\u001b[39;00mfile\u001b[38;5;132;01m}\u001b[39;00m\u001b[33m by default \u001b[39m\u001b[33m\"\u001b[39m\n\u001b[32m    323\u001b[39m         \u001b[33m\"\u001b[39m\u001b[33mas it is likely to crash IPython. If you know what you are doing, \u001b[39m\u001b[33m\"\u001b[39m\n\u001b[32m    324\u001b[39m         \u001b[33m\"\u001b[39m\u001b[33myou can use builtins\u001b[39m\u001b[33m'\u001b[39m\u001b[33m open.\u001b[39m\u001b[33m\"\u001b[39m\n\u001b[32m    325\u001b[39m     )\n\u001b[32m--> \u001b[39m\u001b[32m327\u001b[39m \u001b[38;5;28;01mreturn\u001b[39;00m \u001b[43mio_open\u001b[49m\u001b[43m(\u001b[49m\u001b[43mfile\u001b[49m\u001b[43m,\u001b[49m\u001b[43m \u001b[49m\u001b[43m*\u001b[49m\u001b[43margs\u001b[49m\u001b[43m,\u001b[49m\u001b[43m \u001b[49m\u001b[43m*\u001b[49m\u001b[43m*\u001b[49m\u001b[43mkwargs\u001b[49m\u001b[43m)\u001b[49m\n",
      "\u001b[31mFileNotFoundError\u001b[39m: [Errno 2] No such file or directory: 'config.yaml'"
     ]
    }
   ],
   "source": [
    "with open(\"config.yaml\", \"r\") as f:\n",
    "    config = yaml.safe_load(f)\n",
    "\n",
    "retriever = Retriever(\n",
    "    retriever_model=config[\"sentence_transformer_model\"],\n",
    "    device=DEVICE,\n",
    ")\n"
   ]
  },
  {
   "cell_type": "code",
   "execution_count": 4,
   "metadata": {},
   "outputs": [],
   "source": [
    "ds = GNDDataset(data_dir=\"datasets/text-context_0-hops_None-relation_2-k_titlewise-True\",\n",
    "                gnd_graph=gnd_graph,\n",
    "                config=config,\n",
    "                load_from_disk=True,)"
   ]
  },
  {
   "cell_type": "code",
   "execution_count": 14,
   "metadata": {},
   "outputs": [],
   "source": [
    "label_freq = ds.label_frequency(\n",
    "    ds[\"train\"][\"label-ids\"],\n",
    ")"
   ]
  },
  {
   "cell_type": "code",
   "execution_count": 5,
   "metadata": {},
   "outputs": [],
   "source": [
    "res = pd.read_csv(\"results/prompt-tuning-baseline/predictions-{split}-{checkpoint}.csv\")\n",
    "res[\"reranked-predictions\"] = res[\"reranked-predictions\"].apply(literal_eval)\n",
    "res[\"predictions\"] = res[\"predictions\"].apply(literal_eval)\n",
    "res[\"label-ids\"] = res[\"label-ids\"].apply(literal_eval)\n"
   ]
  },
  {
   "cell_type": "code",
   "execution_count": 9,
   "metadata": {},
   "outputs": [],
   "source": [
    "res[\"n_predictions\"] = res[\"reranked-predictions\"].str.len()\n",
    "res[\"n_gold\"] = res[\"label-ids\"].str.len()"
   ]
  },
  {
   "cell_type": "code",
   "execution_count": null,
   "metadata": {},
   "outputs": [],
   "source": [
    "import seaborn as sns"
   ]
  },
  {
   "cell_type": "code",
   "execution_count": 20,
   "metadata": {},
   "outputs": [
    {
     "data": {
      "image/png": "[encoded data removed]",
      "text/plain": [
       "<Figure size 640x480 with 1 Axes>"
      ]
     },
     "metadata": {},
     "output_type": "display_data"
    }
   ],
   "source": [
    "# histogram of n_predictions abd n_gold\n",
    "sns.histplot(res[\"n_predictions\"], bins=10, color='orange')\n",
    "sns.histplot(res[\"n_gold\"] , bins=50, color='blue')\n",
    "plt.show()"
   ]
  },
  {
   "cell_type": "code",
   "execution_count": 64,
   "metadata": {},
   "outputs": [
    {
     "name": "stderr",
     "output_type": "stream",
     "text": [
      "2200it [00:00, 20647.17it/s]\n"
     ]
    }
   ],
   "source": [
    "# Evaluate label-wise accuracy\n",
    "macro_prec = {\n",
    "\n",
    "}\n",
    "for index, result in tqdm(res.iterrows()):\n",
    "    result_predictions = result[\"reranked-predictions\"]\n",
    "    result_labels = result[\"label-ids\"]\n",
    "    for label in result_predictions:\n",
    "        if label not in macro_prec:\n",
    "            macro_prec[label] = {   \n",
    "                \"tp\": 0,\n",
    "                \"fp\": 0,\n",
    "                \"fn\": 0,\n",
    "            }\n",
    "        if label in result_labels:\n",
    "            macro_prec[label][\"tp\"] += 1\n",
    "        else:\n",
    "            macro_prec[label][\"fp\"] += 1\n",
    "    for label in result_labels:\n",
    "        if label not in macro_prec:\n",
    "            macro_prec[label] = {\n",
    "                \"tp\": 0,\n",
    "                \"fp\": 0,\n",
    "                \"fn\": 0,\n",
    "            }\n",
    "        if label in result_predictions:\n",
    "            macro_prec[label][\"fn\"] += 1\n",
    "    "
   ]
  },
  {
   "cell_type": "code",
   "execution_count": 65,
   "metadata": {},
   "outputs": [],
   "source": [
    "results = {}\n",
    "for label, values in macro_prec.items():\n",
    "    results[label] = {\n",
    "        \"precision\": 0,\n",
    "        \"recall\": 0,\n",
    "    }\n",
    "    if values[\"tp\"] + values[\"fp\"] > 0:\n",
    "        results[label][\"precision\"] = values[\"tp\"] / (values[\"tp\"] + values[\"fp\"])\n",
    "    if values[\"tp\"] + values[\"fn\"] > 0:\n",
    "        results[label][\"recall\"] = values[\"tp\"] / (values[\"tp\"] + values[\"fn\"])\n"
   ]
  },
  {
   "cell_type": "code",
   "execution_count": 66,
   "metadata": {},
   "outputs": [
    {
     "name": "stdout",
     "output_type": "stream",
     "text": [
      "Average Macro Precision:  0.16431712209371208\n",
      "Average Macro Recall:  0.09186746987951808\n"
     ]
    }
   ],
   "source": [
    "avg_macro_prec = 0\n",
    "for label in results:\n",
    "    avg_macro_prec += results[label][\"precision\"]\n",
    "avg_macro_prec /= len(macro_prec)\n",
    "print(\"Average Macro Precision: \", avg_macro_prec)\n",
    "\n",
    "avg_macro_recall = 0\n",
    "for label in results:\n",
    "    avg_macro_recall += results[label][\"recall\"]\n",
    "avg_macro_recall /= len(macro_prec)\n",
    "print(\"Average Macro Recall: \", avg_macro_recall)"
   ]
  },
  {
   "cell_type": "code",
   "execution_count": 61,
   "metadata": {},
   "outputs": [],
   "source": [
    "# Group the labels by their frequency\n",
    "label_freq_grouped_prec = {\n",
    "    0: [],\n",
    "    10: [],\n",
    "    100: [],\n",
    "    1000: [],\n",
    "    10000: [],\n",
    "    100000: [],\n",
    "}\n",
    "\n",
    "label_freq_grouped_rec = {\n",
    "    0: [],\n",
    "    10: [],\n",
    "    100: [],\n",
    "    1000: [],\n",
    "    10000: [],\n",
    "    100000: [],\n",
    "}\n",
    "\n",
    "for label in macro_prec:\n",
    "    freq = label_freq.get(label, 0)\n",
    "    macro_prec_i = results[label][\"precision\"]\n",
    "    macro_rec_i = results[label][\"recall\"]\n",
    "    sort_bins = sorted(label_freq_grouped_prec.keys())\n",
    "    for i in sort_bins:\n",
    "        if freq <= i:\n",
    "            label_freq_grouped_prec[i].append(macro_prec_i)\n",
    "            label_freq_grouped_rec[i].append(macro_rec_i)\n",
    "            break\n"
   ]
  },
  {
   "cell_type": "code",
   "execution_count": 62,
   "metadata": {},
   "outputs": [
    {
     "name": "stdout",
     "output_type": "stream",
     "text": [
      "Average Macro Precision for labels with frequency <= 0:  0.0761904761904762\n",
      "Support for labels with frequency <= 0:  525\n",
      "Average Macro Precision for labels with frequency <= 10:  0.17396679618509361\n",
      "Support for labels with frequency <= 10:  2831\n",
      "Average Macro Precision for labels with frequency <= 100:  0.1671947194719472\n",
      "Support for labels with frequency <= 100:  2525\n",
      "Average Macro Precision for labels with frequency <= 1000:  0.17267806267806268\n",
      "Support for labels with frequency <= 1000:  1755\n",
      "Average Macro Precision for labels with frequency <= 10000:  0.26100471065765607\n",
      "Support for labels with frequency <= 10000:  218\n",
      "Average Macro Precision for labels with frequency <= 100000:  0.3678283410138249\n",
      "Support for labels with frequency <= 100000:  5\n",
      "Average Macro Recall for labels with frequency <= 0:  0.0380952380952381\n",
      "Average Macro Recall for labels with frequency <= 10:  0.08707170611091487\n",
      "Average Macro Recall for labels with frequency <= 100:  0.08574257425742575\n",
      "Average Macro Recall for labels with frequency <= 1000:  0.10427350427350428\n",
      "Average Macro Recall for labels with frequency <= 10000:  0.2545871559633027\n",
      "Average Macro Recall for labels with frequency <= 100000:  0.5\n"
     ]
    }
   ],
   "source": [
    "# Average the precision for each group\n",
    "avg_macro_prec_grouped = { \n",
    "    key: sum(label_freq_grouped_prec[key]) / len(label_freq_grouped_prec[key])\n",
    "    for key in label_freq_grouped_prec\n",
    "}\n",
    "\n",
    "avg_macro_rec_grouped = { \n",
    "    key: sum(label_freq_grouped_rec[key]) / len(label_freq_grouped_rec[key])\n",
    "    for key in label_freq_grouped_rec\n",
    "}\n",
    "\n",
    "for key in avg_macro_prec_grouped:\n",
    "    print(f\"Average Macro Precision for labels with frequency <= {key}: \", avg_macro_prec_grouped[key])\n",
    "    print(f\"Support for labels with frequency <= {key}: \", len(label_freq_grouped_prec[key]))\n",
    "# Average the recall for each group\n",
    "for key in avg_macro_rec_grouped:\n",
    "    print(f\"Average Macro Recall for labels with frequency <= {key}: \", avg_macro_rec_grouped[key])"
   ]
  },
  {
   "cell_type": "code",
   "execution_count": null,
   "metadata": {},
   "outputs": [],
   "source": [
    "pred_idn = \"1286860482\""
   ]
  },
  {
   "cell_type": "code",
   "execution_count": null,
   "metadata": {},
   "outputs": [],
   "source": [
    "gnd_graph[pred_idn]"
   ]
  },
  {
   "cell_type": "code",
   "execution_count": null,
   "metadata": {},
   "outputs": [],
   "source": [
    "# Follow all neighbors with relation \"broader\" until no longer possible\n",
    "\n",
    "path = [pred_idn]\n",
    "while True:\n",
    "    current_idn = path[-1]\n",
    "    neighbors = list(gnd_graph.neighbors(current_idn))\n",
    "    has_broader = False\n",
    "    for neighbor in neighbors:\n",
    "        rel = gnd_graph[current_idn][neighbor][\"relation\"]\n",
    "        if rel == \"broader\":\n",
    "            path.append(neighbor)\n",
    "            has_broader = True\n",
    "    if not has_broader:\n",
    "        break\n"
   ]
  },
  {
   "cell_type": "code",
   "execution_count": null,
   "metadata": {},
   "outputs": [],
   "source": [
    "for p in path:\n",
    "    print(get_pref_label(gnd_graph, p))"
   ]
  },
  {
   "cell_type": "code",
   "execution_count": null,
   "metadata": {},
   "outputs": [],
   "source": [
    "model, tokenizer = init_prompt_model(model_name=config[\"model_name\"], prompt_config=config[\"prompt_config\"])"
   ]
  },
  {
   "cell_type": "code",
   "execution_count": null,
   "metadata": {},
   "outputs": [],
   "source": [
    "model.get_input_embeddings()"
   ]
  },
  {
   "cell_type": "code",
   "execution_count": null,
   "metadata": {},
   "outputs": [],
   "source": [
    "d = GNDDataset(\n",
    "    data_dir=\"data/text_0hops_None-relation_1k_titlewiseFalse/\",\n",
    "    gnd_graph=\"data/gnd.pickle\", \n",
    "    config=config,\n",
    "    load_from_disk=True,\n",
    ")"
   ]
  },
  {
   "cell_type": "code",
   "execution_count": null,
   "metadata": {},
   "outputs": [],
   "source": [
    "d[\"validate\"][0]"
   ]
  },
  {
   "cell_type": "code",
   "execution_count": null,
   "metadata": {},
   "outputs": [],
   "source": [
    "gnd_ds = GNDDataset(\n",
    "    data_dir=data_dir,\n",
    "    gnd_graph=gnd_graph,\n",
    "    config=config\n",
    ")\n",
    "gnd_ds.add_context(\n",
    "    retriever=retriever,\n",
    "    index=index,\n",
    "    mapping=mapping,\n",
    "    context_type=\"graph\",\n",
    "    k=3,\n",
    "    hops=2,\n",
    "    relation=\"broader\", \n",
    "    use_title_wise=False, \n",
    "    batch_size=1024,\n",
    "    splits=[\"validate\"]\n",
    ")"
   ]
  },
  {
   "cell_type": "code",
   "execution_count": null,
   "metadata": {},
   "outputs": [],
   "source": [
    "ex_context_graph = gnd_ds[\"validate\"][0][\"context\"][0]"
   ]
  },
  {
   "cell_type": "code",
   "execution_count": null,
   "metadata": {},
   "outputs": [],
   "source": [
    "H = nx.node_link_graph(ex_context_graph, edges=\"edges\")"
   ]
  },
  {
   "cell_type": "code",
   "execution_count": null,
   "metadata": {},
   "outputs": [],
   "source": [
    "\n",
    "labels = {node_id: get_pref_label(gnd_graph, node_id) for node_id in H.nodes}\n",
    "edge_labels = {(head, tail): get_relation_type(H, head=head, tail=tail) for head, tail in H.edges}"
   ]
  },
  {
   "cell_type": "code",
   "execution_count": null,
   "metadata": {},
   "outputs": [],
   "source": [
    "pos = nx.spring_layout(H)\n",
    "nx.draw(H, pos,  with_labels=True, font_size=7, font_weight=\"bold\", labels=labels, node_size=500, node_color='pink', alpha=0.9,)\n",
    "nx.draw_networkx_edge_labels(H, pos, edge_labels=edge_labels)\n",
    "plt.show()"
   ]
  },
  {
   "cell_type": "code",
   "execution_count": null,
   "metadata": {},
   "outputs": [],
   "source": [
    "nx.node_link_data(gnd_graph, edges=\"edges\")"
   ]
  }
 ],
 "metadata": {
  "kernelspec": {
   "display_name": "peft",
   "language": "python",
   "name": "python3"
  },
  "language_info": {
   "codemirror_mode": {
    "name": "ipython",
    "version": 3
   },
   "file_extension": ".py",
   "mimetype": "text/x-python",
   "name": "python",
   "nbconvert_exporter": "python",
   "pygments_lexer": "ipython3",
   "version": "3.12.11"
  }
 },
 "nbformat": 4,
 "nbformat_minor": 2
}
