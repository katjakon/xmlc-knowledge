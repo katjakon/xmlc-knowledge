{
 "cells": [
  {
   "cell_type": "code",
   "execution_count": 1,
   "metadata": {},
   "outputs": [
    {
     "name": "stderr",
     "output_type": "stream",
     "text": [
      "/home/katja/projects/xmlc-knowledge/ki-env/lib/python3.12/site-packages/tqdm/auto.py:21: TqdmWarning: IProgress not found. Please update jupyter and ipywidgets. See https://ipywidgets.readthedocs.io/en/stable/user_install.html\n",
      "  from .autonotebook import tqdm as notebook_tqdm\n"
     ]
    }
   ],
   "source": [
    "from sentence_transformers import SentenceTransformer\n",
    "from datasets import load_dataset\n",
    "from gnd_dataset import GNDDataset, Dataset\n",
    "import yaml\n",
    "import pickle\n",
    "import faiss\n",
    "from utils import get_label_mapping, get_pref_label\n"
   ]
  },
  {
   "cell_type": "code",
   "execution_count": 2,
   "metadata": {},
   "outputs": [],
   "source": [
    "model = SentenceTransformer(\"retriever/partial/checkpoint-17218\") # \"sentence-transformers/all-MiniLM-L6-v2\""
   ]
  },
  {
   "cell_type": "code",
   "execution_count": 3,
   "metadata": {},
   "outputs": [
    {
     "name": "stderr",
     "output_type": "stream",
     "text": [
      "model.safetensors:   0%|          | 0.00/2.27G [00:00<?, ?B/s]\n",
      "model.safetensors:   0%|          | 1.15M/2.27G [00:00<03:20, 11.3MB/s]\n",
      "model.safetensors:   0%|          | 8.60M/2.27G [00:00<00:47, 47.5MB/s]\n",
      "\u001b[A\n",
      "model.safetensors:   1%|          | 16.0M/2.27G [00:00<01:11, 31.6MB/s]\n",
      "model.safetensors:   1%|          | 27.8M/2.27G [00:00<00:41, 53.7MB/s]\n",
      "model.safetensors:   2%|▏         | 34.8M/2.27G [00:00<00:55, 40.4MB/s]\n",
      "model.safetensors:   2%|▏         | 42.6M/2.27G [00:00<00:46, 47.8MB/s]\n",
      "\u001b[A\n",
      "\u001b[A\n",
      "tokenizer.json: 100%|██████████| 17.1M/17.1M [00:02<00:00, 7.60MB/s]/s]\n",
      "model.safetensors: 100%|██████████| 2.27G/2.27G [01:06<00:00, 33.9MB/s]\n",
      "Upload 2 LFS files: 100%|██████████| 2/2 [01:07<00:00, 33.64s/it]\n"
     ]
    },
    {
     "data": {
      "text/plain": [
       "'https://huggingface.co/KatjaK/gnd_retriever_100k/commit/6a2e4d9d43cdd161e12889710fba17e9c3dfeb32'"
      ]
     },
     "execution_count": 3,
     "metadata": {},
     "output_type": "execute_result"
    }
   ],
   "source": [
    "model.push_to_hub(\"gnd_retriever_100k\")"
   ]
  },
  {
   "cell_type": "code",
   "execution_count": 3,
   "metadata": {},
   "outputs": [],
   "source": [
    "gnd_path = \"data/gnd.pickle\"\n",
    "config_path = \"configs/config_pt_baseline.yaml\"\n",
    "# Load config \n",
    "with open(config_path, \"r\") as f:\n",
    "    config = yaml.safe_load(f)\n",
    "gnd_graph = pickle.load(open(gnd_path, \"rb\"))"
   ]
  },
  {
   "cell_type": "code",
   "execution_count": 4,
   "metadata": {},
   "outputs": [],
   "source": [
    "ds = GNDDataset(\n",
    "    data_dir=\"datasets/no_context/\",\n",
    "    gnd_graph=gnd_graph,\n",
    "    config=config,\n",
    "    load_from_disk=True\n",
    "    \n",
    ")"
   ]
  },
  {
   "cell_type": "code",
   "execution_count": 6,
   "metadata": {},
   "outputs": [
    {
     "name": "stderr",
     "output_type": "stream",
     "text": [
      "Batches: 100%|██████████| 339/339 [03:26<00:00,  1.64it/s]\n"
     ]
    }
   ],
   "source": [
    "\n",
    "strings, mapping = get_label_mapping(gnd_graph)\n",
    "index_fs = faiss.IndexHNSWFlat(model.get_sentence_embedding_dimension(), 200)\n",
    "label_embeddings = model.encode(strings, show_progress_bar=True, batch_size=1024)\n",
    "index_fs.add(label_embeddings)"
   ]
  },
  {
   "cell_type": "code",
   "execution_count": 105,
   "metadata": {},
   "outputs": [
    {
     "data": {
      "text/plain": [
       "('Das Ende des Ersten Weltkriegs und die Dolchstoßlegende',\n",
       " ['Dolchstoßlegende', 'Kriegsende', 'Zwölfte Isonzoschlacht'],\n",
       " ['Erster Weltkrieg', 'Kriegsende', 'Dolchstoßlegende'])"
      ]
     },
     "execution_count": 105,
     "metadata": {},
     "output_type": "execute_result"
    }
   ],
   "source": [
    "example = ds[\"validate\"][1300]\n",
    "enc_example = model.encode([example[\"title\"]], show_progress_bar=False, batch_size=1024)\n",
    "ee = model.encode([example[\"title\"]], show_progress_bar=False, batch_size=1024)\n",
    "dist, labels =index_fs.search(enc_example, 3)\n",
    "d, ls = index_fs.search(ee, 3)\n",
    "example[\"title\"], [get_pref_label(gnd_graph, mapping[i]) for i in labels[0]],example[\"label-names\"]"
   ]
  },
  {
   "cell_type": "code",
   "execution_count": null,
   "metadata": {},
   "outputs": [],
   "source": []
  },
  {
   "cell_type": "code",
   "execution_count": 108,
   "metadata": {},
   "outputs": [
    {
     "name": "stderr",
     "output_type": "stream",
     "text": [
      "Batches:   0%|          | 0/9 [00:00<?, ?it/s]"
     ]
    },
    {
     "name": "stderr",
     "output_type": "stream",
     "text": [
      "Batches: 100%|██████████| 9/9 [00:11<00:00,  1.30s/it]\n"
     ]
    }
   ],
   "source": [
    "texts = ds[\"test\"][\"title\"]\n",
    "text_embeddings = model.encode(texts, show_progress_bar=True, batch_size=1024)"
   ]
  },
  {
   "cell_type": "code",
   "execution_count": 109,
   "metadata": {},
   "outputs": [],
   "source": [
    "similarity, indices = index_fs.search(text_embeddings, 10)"
   ]
  },
  {
   "cell_type": "code",
   "execution_count": 110,
   "metadata": {},
   "outputs": [],
   "source": [
    "label_idn = [list(map(lambda idx: mapping[idx], top_indices)) for top_indices in indices]"
   ]
  },
  {
   "cell_type": "code",
   "execution_count": 116,
   "metadata": {},
   "outputs": [],
   "source": [
    "import pandas as pd\n",
    "import os"
   ]
  },
  {
   "cell_type": "code",
   "execution_count": 113,
   "metadata": {},
   "outputs": [],
   "source": [
    "test_ds = ds[\"test\"]"
   ]
  },
  {
   "cell_type": "code",
   "execution_count": 114,
   "metadata": {},
   "outputs": [],
   "source": [
    "pred_df = pd.DataFrame(\n",
    "    {\n",
    "        \"predictions\": label_idn,\n",
    "        \"label-ids\": test_ds[\"label-ids\"],\n",
    "        \"label-names\": test_ds[\"label-names\"],\n",
    "        \"title\": test_ds[\"title\"],\n",
    "    }\n",
    ")"
   ]
  },
  {
   "cell_type": "code",
   "execution_count": 118,
   "metadata": {},
   "outputs": [],
   "source": [
    "os.mkdir(\"results/retrieval-ft\")"
   ]
  },
  {
   "cell_type": "code",
   "execution_count": 119,
   "metadata": {},
   "outputs": [],
   "source": [
    "pred_df.to_csv(os.path.join(\"results/retrieval-ft\", \"predictions.csv\"), index=False)"
   ]
  }
 ],
 "metadata": {
  "kernelspec": {
   "display_name": "ki-env",
   "language": "python",
   "name": "python3"
  },
  "language_info": {
   "codemirror_mode": {
    "name": "ipython",
    "version": 3
   },
   "file_extension": ".py",
   "mimetype": "text/x-python",
   "name": "python",
   "nbconvert_exporter": "python",
   "pygments_lexer": "ipython3",
   "version": "3.12.11"
  }
 },
 "nbformat": 4,
 "nbformat_minor": 2
}
